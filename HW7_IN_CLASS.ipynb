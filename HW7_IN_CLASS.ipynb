{
  "nbformat": 4,
  "nbformat_minor": 0,
  "metadata": {
    "colab": {
      "provenance": []
    },
    "kernelspec": {
      "name": "python3",
      "display_name": "Python 3"
    },
    "language_info": {
      "name": "python"
    }
  },
  "cells": [
    {
      "cell_type": "markdown",
      "source": [
        "# 1.) Import an asset price from Yahoo Finance"
      ],
      "metadata": {
        "id": "6dJuZDx9qWeM"
      }
    },
    {
      "cell_type": "code",
      "execution_count": 23,
      "metadata": {
        "colab": {
          "base_uri": "https://localhost:8080/"
        },
        "id": "Y3bcwJb4rp93",
        "outputId": "f81e41ea-1286-40e9-d949-e8653be3c33a"
      },
      "outputs": [
        {
          "output_type": "stream",
          "name": "stdout",
          "text": [
            "\r[*********************100%***********************]  1 of 1 completed\n"
          ]
        }
      ],
      "source": [
        "import yfinance as yf\n",
        "import numpy as np\n",
        "import pandas as pd\n",
        "from sklearn.preprocessing import MinMaxScaler\n",
        "from tensorflow.keras.models import Sequential\n",
        "from tensorflow.keras.layers import Dense, LSTM, Dropout\n",
        "\n",
        "\n",
        "########################################\n",
        "####Pick your ticker and time period####\n",
        "########################################\n",
        "stock_data = yf.download(\"^IRX\", start=\"1990-01-01\", end=\"2022-02-21\")"
      ]
    },
    {
      "cell_type": "markdown",
      "source": [
        "# 2.) Create your x_train/y_train data so that your RNN uses percentage change data to make a binary forecast where the stock moves up or down the next day\n",
        "# Build an RNN Architecture accordingly"
      ],
      "metadata": {
        "id": "foHoGy9hq3_o"
      }
    },
    {
      "cell_type": "markdown",
      "source": [
        "\n",
        "\n",
        "```\n",
        "# Preprocess data\n",
        "scaled_data = np.array(stock_data[\"Close\"].pct_change().dropna()).reshape(-1,1)\n",
        "\n",
        "\n",
        "# Split data into training and test sets\n",
        "training_data_len = int(len(scaled_data) * 0.8)\n",
        "train_data = scaled_data[0:training_data_len, :]\n",
        "\n",
        "x_train = []\n",
        "y_train = []\n",
        "\n",
        "\n",
        "#############################################################\n",
        "####Pick your input size and edit to make binary forecast####\n",
        "#############################################################\n",
        "input_size = 5\n",
        "for i in range(input_size, len(train_data)):\n",
        "    x_train.append(train_data[i-input_size:i, 0])\n",
        "    y_train.append(train_data[i, 0])\n",
        "\n",
        "x_train, y_train = np.array(x_train), np.array(y_train)\n",
        "x_train = np.reshape(x_train, (x_train.shape[0], x_train.shape[1], 1))\n",
        "```\n",
        "\n"
      ],
      "metadata": {
        "id": "ul_AwgvrErzY"
      }
    },
    {
      "cell_type": "code",
      "source": [
        "stock_data.columns"
      ],
      "metadata": {
        "colab": {
          "base_uri": "https://localhost:8080/"
        },
        "id": "HQ-1f76jGAB5",
        "outputId": "1285fca2-0c96-4414-c20c-09e3ed38d235"
      },
      "execution_count": 24,
      "outputs": [
        {
          "output_type": "execute_result",
          "data": {
            "text/plain": [
              "Index(['Open', 'High', 'Low', 'Close', 'Adj Close', 'Volume'], dtype='object')"
            ]
          },
          "metadata": {},
          "execution_count": 24
        }
      ]
    },
    {
      "cell_type": "code",
      "source": [
        "returns_series = stock_data[\"Adj Close\"].pct_change().dropna()\n",
        "df = pd.DataFrame({\n",
        "    'target':np.where(returns_series>0,1,0),\n",
        "    'lag1': returns_series.shift(1),\n",
        "    'lag2': returns_series.shift(2),\n",
        "    'lag3': returns_series.shift(3),\n",
        "    'lag4': returns_series.shift(4),\n",
        "    'lag5': returns_series.shift(5),\n",
        "}).dropna()\n",
        "\n",
        "training_data_len = int(len(scaled_data) * 0.8)\n",
        "train_data = df.iloc[0:training_data_len, :]\n",
        "test_data = df.iloc[training_data_len+1:, :]\n",
        "\n",
        "x_train = np.array(train_data.drop(columns = 'target'))\n",
        "y_train = np.array(train_data['target'])\n",
        "\n",
        "x_test = np.array(test_data.drop(columns = 'target'))\n",
        "y_test = np.array(test_data['target'])"
      ],
      "metadata": {
        "id": "5qGFB5HfqcVd"
      },
      "execution_count": 25,
      "outputs": []
    },
    {
      "cell_type": "code",
      "source": [
        "###################################\n",
        "####Build Your RNN Architecture####\n",
        "###################################\n",
        "model = Sequential()\n",
        "model.add(LSTM(x_train.shape[1], return_sequences=True, input_shape=(x_train.shape[1], 1)))\n",
        "model.add(LSTM(50, return_sequences=False))\n",
        "model.add(Dense(50, activation = 'relu'))\n",
        "model.add(Dense(1, activation = 'sigmoid'))"
      ],
      "metadata": {
        "id": "p3BlSFA8Na77"
      },
      "execution_count": 26,
      "outputs": []
    },
    {
      "cell_type": "code",
      "source": [
        "model.compile(optimizer='adam', loss='mean_squared_error', metrics = ['accuracy'])\n",
        "model.fit(x_train, y_train, batch_size=1, epochs=5)"
      ],
      "metadata": {
        "colab": {
          "base_uri": "https://localhost:8080/"
        },
        "id": "1BjdxN9QlYSI",
        "outputId": "a6666f80-b110-4d43-b7a0-fa78d9918071"
      },
      "execution_count": 27,
      "outputs": [
        {
          "output_type": "stream",
          "name": "stdout",
          "text": [
            "Epoch 1/5\n",
            "6452/6452 [==============================] - 38s 5ms/step - loss: 0.2413 - accuracy: 0.5984\n",
            "Epoch 2/5\n",
            "6452/6452 [==============================] - 35s 5ms/step - loss: 0.2395 - accuracy: 0.6011\n",
            "Epoch 3/5\n",
            "6452/6452 [==============================] - 36s 6ms/step - loss: 0.2384 - accuracy: 0.6043\n",
            "Epoch 4/5\n",
            "6452/6452 [==============================] - 35s 5ms/step - loss: 0.2379 - accuracy: 0.6040\n",
            "Epoch 5/5\n",
            "6452/6452 [==============================] - 35s 5ms/step - loss: 0.2377 - accuracy: 0.6043\n"
          ]
        },
        {
          "output_type": "execute_result",
          "data": {
            "text/plain": [
              "<keras.callbacks.History at 0x7f60bc14f670>"
            ]
          },
          "metadata": {},
          "execution_count": 27
        }
      ]
    },
    {
      "cell_type": "markdown",
      "source": [
        "# 3.) Test your model and compare insample Accurracy, insample random walk assumption Accuracy, Out of sample Accuracy and out of sample random walk assumption Accuracy using a bar chart"
      ],
      "metadata": {
        "id": "yFhO9vMjsWPk"
      }
    },
    {
      "cell_type": "markdown",
      "source": [
        "\n",
        "\n",
        "```\n",
        "test_data = scaled_data[training_data_len - input_size:, :]\n",
        "\n",
        "x_test = [] \n",
        "y_test = np.array(stock_data[[\"Close\"]].pct_change().dropna())[training_data_len:, :]\n",
        "for i in range(input_size, len(test_data)):\n",
        "    x_test.append(test_data[i-input_size:i, 0])\n",
        "\n",
        "x_test = np.array(x_test)\n",
        "x_test = np.reshape(x_test, (x_test.shape[0], x_test.shape[1], 1))\n",
        "```\n",
        "\n"
      ],
      "metadata": {
        "id": "itc7snD1FP2a"
      }
    },
    {
      "cell_type": "code",
      "source": [
        "train_pred = model.predict(x_train)\n",
        "test_pred = model.predict(x_test)"
      ],
      "metadata": {
        "id": "Mvo2INihZMhk",
        "colab": {
          "base_uri": "https://localhost:8080/"
        },
        "outputId": "0a9fde3d-33dd-4d72-d76e-ce72c38e9e8d"
      },
      "execution_count": 28,
      "outputs": [
        {
          "output_type": "stream",
          "name": "stdout",
          "text": [
            "202/202 [==============================] - 2s 4ms/step\n",
            "51/51 [==============================] - 0s 4ms/step\n"
          ]
        }
      ]
    },
    {
      "cell_type": "code",
      "source": [
        "train_rmse = np.sqrt(np.mean((train_pred - y_train)**2))\n",
        "test_rmse = np.sqrt(np.mean((test_pred - y_test)**2))\n",
        "score = model.evaluate(x_train, y_train, batch_size=1)\n",
        "in_accuracy = score[1]\n",
        "train_data['predictions_rw'] = train_data['target'].shift(1).dropna()\n",
        "rw_accuracy_train = (train_data['predictions_rw'] == train_data['target']).sum()/len(train_data)\n",
        "print('In sample accuracy:', in_accuracy)\n",
        "print('In sample random walk accuracy:', rw_accuracy_train)"
      ],
      "metadata": {
        "id": "OiI-32NItCxs",
        "colab": {
          "base_uri": "https://localhost:8080/"
        },
        "outputId": "655c4fbe-3f83-4475-c55b-d0b9ccdd6a83"
      },
      "execution_count": 29,
      "outputs": [
        {
          "output_type": "stream",
          "name": "stdout",
          "text": [
            "6452/6452 [==============================] - 17s 2ms/step - loss: 0.2361 - accuracy: 0.6073\n",
            "In sample accuracy: 0.6072535514831543\n",
            "In sample random walk accuracy: 0.5382827030378178\n"
          ]
        },
        {
          "output_type": "stream",
          "name": "stderr",
          "text": [
            "<ipython-input-29-e848f73f1e1a>:5: SettingWithCopyWarning: \n",
            "A value is trying to be set on a copy of a slice from a DataFrame.\n",
            "Try using .loc[row_indexer,col_indexer] = value instead\n",
            "\n",
            "See the caveats in the documentation: https://pandas.pydata.org/pandas-docs/stable/user_guide/indexing.html#returning-a-view-versus-a-copy\n",
            "  train_data['predictions_rw'] = train_data['target'].shift(1).dropna()\n"
          ]
        }
      ]
    },
    {
      "cell_type": "code",
      "source": [
        "score = model.evaluate(x_test, y_test, batch_size=1)\n",
        "out_accuracy = score[1]\n",
        "test_data['predictions_rw'] = test_data['target'].shift(1).dropna()\n",
        "rw_accuracy = (test_data['predictions_rw'] == test_data['target']).sum()/len(test_data)\n",
        "print('Out of sample accuracy:', out_accuracy)\n",
        "print('Out of sample random walk accuracy:', rw_accuracy)"
      ],
      "metadata": {
        "colab": {
          "base_uri": "https://localhost:8080/"
        },
        "id": "zIDbHy6Oy8pt",
        "outputId": "491ea3de-5886-48c1-f11a-9f3041955a64"
      },
      "execution_count": 30,
      "outputs": [
        {
          "output_type": "stream",
          "name": "stdout",
          "text": [
            "1607/1607 [==============================] - 4s 2ms/step - loss: 0.2362 - accuracy: 0.6092\n",
            "Out of sample accuracy: 0.6092097163200378\n",
            "Out of sample random walk accuracy: 0.5183571873055383\n"
          ]
        },
        {
          "output_type": "stream",
          "name": "stderr",
          "text": [
            "<ipython-input-30-ec2c966679f9>:3: SettingWithCopyWarning: \n",
            "A value is trying to be set on a copy of a slice from a DataFrame.\n",
            "Try using .loc[row_indexer,col_indexer] = value instead\n",
            "\n",
            "See the caveats in the documentation: https://pandas.pydata.org/pandas-docs/stable/user_guide/indexing.html#returning-a-view-versus-a-copy\n",
            "  test_data['predictions_rw'] = test_data['target'].shift(1).dropna()\n"
          ]
        }
      ]
    },
    {
      "cell_type": "code",
      "source": [
        "import matplotlib.pyplot as plt\n",
        "\n",
        "plt.figure(figsize = (14,8))\n",
        "plt.bar(x = ['In sample accuracy','In sample random walk accuracy', 'Out of sample accuracy', 'Out of sample random walk accuracy'],height = [in_accuracy, rw_accuracy_train, out_accuracy, rw_accuracy])\n",
        "plt.title('Accuracy Comparision')\n",
        "plt.show()"
      ],
      "metadata": {
        "colab": {
          "base_uri": "https://localhost:8080/",
          "height": 499
        },
        "id": "81Iih7RL55L2",
        "outputId": "2596ffcf-9118-4a6b-c702-f9b3760ad86f"
      },
      "execution_count": 31,
      "outputs": [
        {
          "output_type": "display_data",
          "data": {
            "text/plain": [
              "<Figure size 1008x576 with 1 Axes>"
            ],
            "image/png": "[encoded data removed]"
          },
          "metadata": {
            "needs_background": "light"
          }
        }
      ]
    },
    {
      "cell_type": "markdown",
      "source": [
        "# 4.) Plot in and out of sample accuracy"
      ],
      "metadata": {
        "id": "8bncNwh8tKiE"
      }
    },
    {
      "cell_type": "markdown",
      "source": [
        "\n",
        "```\n",
        "# import matplotlib.pyplot as plt\n",
        "\n",
        "# Make predictions on full dataset\n",
        "\n",
        "test_predict = model.predict(x_test)\n",
        "test_predictions = (test_predict+1).reshape(1,-1) * np.cumprod(y_test+1)\n",
        "\n",
        "train_predict = model.predict(x_train)\n",
        "train_predictions = (train_predict+1).reshape(1,-1) * np.cumprod(y_train+1)\n",
        "\n",
        "\n",
        "\n",
        "plt.plot(stock_data[:training_data_len- input_size].index, np.cumprod(y_train+1), label=\"Training Data\")\n",
        "plt.plot(stock_data[:training_data_len- input_size].index, train_predictions[0], label=\"Training Predictions\")\n",
        "end_val = np.cumprod(y_train+1)[-1]\n",
        "test_predict = model.predict(x_test)\n",
        "test_predictions = (test_predict+1).reshape(1,-1) * (np.cumprod((y_test+1))*end_val)\n",
        "plt.plot(stock_data[training_data_len+1:].index, np.cumprod((y_test+1))*end_val,label=\"Test Data\")\n",
        "plt.plot(stock_data[training_data_len+1:].index, test_predictions[0], label=\"Test Predictions\")\n",
        "plt.xlabel(\"Date\")\n",
        "plt.ylabel(\"Stock Price\")\n",
        "plt.legend()\n",
        "plt.show()\n",
        "```\n",
        "\n"
      ],
      "metadata": {
        "id": "0olOXAWCs21n"
      }
    },
    {
      "cell_type": "markdown",
      "source": [
        "#5.) Write an observation/conclusion about the graphs from Q4 and Q3"
      ],
      "metadata": {
        "id": "bK_jyyEEtTUB"
      }
    },
    {
      "cell_type": "markdown",
      "source": [
        "From the above results, the model predictions have higher accuracy than the random walk predictions in both in sample and out of sample test."
      ],
      "metadata": {
        "id": "xxXJ8lZu7ezo"
      }
    },
    {
      "cell_type": "markdown",
      "source": [
        "# 6.) Create a parameter for number of lags in your input layer. Do a 3-fold CV to test three different time lags. i.e. Tested using 5,10,20 days of previous price data to forecast"
      ],
      "metadata": {
        "id": "pFtrp-lmtw6t"
      }
    },
    {
      "cell_type": "code",
      "source": [
        "from sklearn.model_selection import GridSearchCV\n",
        "from keras.wrappers.scikit_learn import KerasClassifier\n",
        "from keras.wrappers.scikit_learn import KerasRegressor"
      ],
      "metadata": {
        "id": "A2RwpPnaAL0t"
      },
      "execution_count": 36,
      "outputs": []
    },
    {
      "cell_type": "code",
      "source": [
        "# Preprocess data\n",
        "scaled_data = np.array(stock_data[\"Adj Close\"].pct_change().dropna()).reshape(-1,1)\n",
        "\n",
        "\n",
        "# Split data into training and test sets\n",
        "training_data_len = int(len(scaled_data) * 0.8)\n",
        "train_data = scaled_data[0:training_data_len, :]"
      ],
      "metadata": {
        "id": "Uvn0a7WRHzCh"
      },
      "execution_count": 37,
      "outputs": []
    },
    {
      "cell_type": "code",
      "source": [
        "def resample(input_size):\n",
        "    x_train = []\n",
        "    y_train = []\n",
        "\n",
        "    for i in range(input_size, len(train_data)):\n",
        "       x_train.append(train_data[i-input_size:i, 0])\n",
        "       y_train.append(train_data[i, 0])\n",
        "\n",
        "    x_train, y_train = np.array(x_train), np.array(y_train)\n",
        "    x_train = np.reshape(x_train, (x_train.shape[0], x_train.shape[1], 1))\n",
        "\n",
        "    test_data = scaled_data[training_data_len - input_size:, :]\n",
        "    x_test = [] \n",
        "    y_test = np.array(stock_data[[\"Close\"]].pct_change().dropna())[training_data_len:, :]\n",
        "    for i in range(input_size, len(test_data)):\n",
        "       x_test.append(test_data[i-input_size:i, 0])\n",
        "    x_test = np.array(x_test)\n",
        "    x_test = np.reshape(x_test, (x_test.shape[0], x_test.shape[1], 1))\n",
        "    return x_train, y_train, x_test, y_test\n",
        "\n",
        "model = Sequential()\n",
        "model.add(LSTM(x_train.shape[1], return_sequences=True, input_shape=(x_train.shape[1], 1))) \n",
        "model.add(LSTM(50, return_sequences=False))\n",
        "model.add(Dense(1))\n",
        "model.compile(optimizer='adam', loss='mean_squared_error')"
      ],
      "metadata": {
        "id": "vfH6js5EB2wu"
      },
      "execution_count": 41,
      "outputs": []
    },
    {
      "cell_type": "code",
      "source": [
        "#param_grid = {'input_size': [5, 10, 20]}\n",
        "\n",
        "# Wrap the Keras model in a scikit-learn compatible estimator\n",
        "#x_train, y_train= resample(input_size)\n",
        "#model = KerasRegressor(build_fn=create_model, verbose=0)\n",
        "\n",
        "# Perform the grid search over the hyperparameters\n",
        "#grid = GridSearchCV(estimator=model, param_grid=param_grid, n_jobs=-1, cv=3)\n",
        "#grid_result = grid.fit(x_train, y_train)\n",
        "\n",
        "# Print the results\n",
        "#print(\"Best: %f using %s\" % (grid_result.best_score_, grid_result.best_params_))"
      ],
      "metadata": {
        "id": "l0Ku0irbAtoc"
      },
      "execution_count": 42,
      "outputs": []
    },
    {
      "cell_type": "code",
      "source": [
        "input_size = [5,10,20]\n",
        "for i in input_size:\n",
        "  x_train, y_train, x_test, y_test= resample(i)\n",
        "  model.fit(x_train, y_train, batch_size=1, epochs=1)\n",
        "  train_pred = model.predict(x_train)\n",
        "  test_pred = model.predict(x_test)\n",
        "  print(i,':   ',np.sqrt(np.mean((train_pred - y_train)**2)))\n",
        "  print(i,':   ',np.sqrt(np.mean((test_pred - y_test)**2)))"
      ],
      "metadata": {
        "colab": {
          "base_uri": "https://localhost:8080/"
        },
        "id": "87wsW-KyLpLS",
        "outputId": "24baf200-e510-4c3e-e000-551fb7362f34"
      },
      "execution_count": 43,
      "outputs": [
        {
          "output_type": "stream",
          "name": "stdout",
          "text": [
            "6447/6447 [==============================] - 37s 5ms/step - loss: 0.1370\n",
            "202/202 [==============================] - 1s 3ms/step\n",
            "51/51 [==============================] - 0s 3ms/step\n",
            "5 :    0.39777460973813683\n",
            "5 :    0.36609844717355244\n",
            "6442/6442 [==============================] - 38s 6ms/step - loss: 0.1449\n",
            "202/202 [==============================] - 2s 5ms/step\n",
            "51/51 [==============================] - 0s 4ms/step\n",
            "10 :    0.39153856852027863\n",
            "10 :    0.33985455305260853\n",
            "6432/6432 [==============================] - 35s 5ms/step - loss: 0.1478\n",
            "201/201 [==============================] - 1s 6ms/step\n",
            "51/51 [==============================] - 0s 6ms/step\n",
            "20 :    0.3904996495299839\n",
            "20 :    0.33994085174852917\n"
          ]
        }
      ]
    },
    {
      "cell_type": "markdown",
      "source": [
        "I tried many times but I couldn't use GridSearchCV to get what I want, so I have to use for loop. For in-sample MSE, use 20 days of data perform the best, while for out-of-sample MSE, use 10 days of data is good enough."
      ],
      "metadata": {
        "id": "Wkq2xOnbOVvg"
      }
    }
  ]
}