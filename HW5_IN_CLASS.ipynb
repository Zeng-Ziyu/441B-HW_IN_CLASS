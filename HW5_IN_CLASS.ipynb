{
  "nbformat": 4,
  "nbformat_minor": 0,
  "metadata": {
    "colab": {
      "provenance": []
    },
    "kernelspec": {
      "name": "python3",
      "display_name": "Python 3"
    },
    "language_info": {
      "name": "python"
    }
  },
  "cells": [
    {
      "cell_type": "markdown",
      "source": [
        "# 0.) Import the US Perminent Visas using zip extractor"
      ],
      "metadata": {
        "id": "7ywSRtNI4s5h"
      }
    },
    {
      "cell_type": "code",
      "execution_count": 1,
      "metadata": {
        "id": "nsG1QV154GYZ"
      },
      "outputs": [],
      "source": [
        "import pandas as pd\n",
        "from google.colab import drive\n",
        "import matplotlib.pyplot as plt\n",
        "import numpy as np\n",
        "import seaborn as sns"
      ]
    },
    {
      "cell_type": "code",
      "source": [
        "drive.mount('/content/gdrive/', force_remount = True)"
      ],
      "metadata": {
        "colab": {
          "base_uri": "https://localhost:8080/"
        },
        "id": "Iku0T8Ou4Lcu",
        "outputId": "d1bd95c2-fd78-4572-80ab-4157627058d9"
      },
      "execution_count": 2,
      "outputs": [
        {
          "output_type": "stream",
          "name": "stdout",
          "text": [
            "Mounted at /content/gdrive/\n"
          ]
        }
      ]
    },
    {
      "cell_type": "code",
      "source": [
        "import zipfile\n",
        "\n",
        "zf = zipfile.ZipFile(\"/content/gdrive/MyDrive/ECON441B/Week5/us_perm_visas.csv.zip\") \n",
        "df = pd.read_csv(zf.open('us_perm_visas.csv'))"
      ],
      "metadata": {
        "colab": {
          "base_uri": "https://localhost:8080/"
        },
        "id": "Q7XmCWs_rULl",
        "outputId": "3b612879-082b-46e7-a2e8-d30ccc03fdcc"
      },
      "execution_count": 3,
      "outputs": [
        {
          "output_type": "stream",
          "name": "stderr",
          "text": [
            "<ipython-input-3-51f4459c1795>:4: DtypeWarning: Columns (0,1,2,3,4,5,6,7,10,11,16,17,20,21,22,25,26,27,28,29,30,31,32,33,34,35,36,37,39,40,41,42,43,44,45,47,48,49,50,51,52,53,55,56,57,58,59,60,61,63,64,65,66,68,69,70,71,72,73,74,77,79,80,81,82,83,84,85,86,87,88,89,90,91,92,93,94,95,100,101,103,104,105,106,107,108,109,110,111,112,113,114,115,116,117,118,119,120,121,122,123,124,125,126,127,128,129,130,131,132,133,134,135,136,137,138,139,140,141,142,143,144,145,146,147,148,149,150,153) have mixed types. Specify dtype option on import or set low_memory=False.\n",
            "  df = pd.read_csv(zf.open('us_perm_visas.csv'))\n"
          ]
        }
      ]
    },
    {
      "cell_type": "code",
      "source": [
        "df.head()"
      ],
      "metadata": {
        "id": "KJQfo8mz43Kz",
        "colab": {
          "base_uri": "https://localhost:8080/",
          "height": 473
        },
        "outputId": "d9c400d0-93ed-41b5-807f-88cfeee4cf2d"
      },
      "execution_count": 4,
      "outputs": [
        {
          "output_type": "execute_result",
          "data": {
            "text/plain": [
              "  add_these_pw_job_title_9089 agent_city agent_firm_name agent_state  \\\n",
              "0                         NaN        NaN             NaN         NaN   \n",
              "1                         NaN        NaN             NaN         NaN   \n",
              "2                         NaN        NaN             NaN         NaN   \n",
              "3                         NaN        NaN             NaN         NaN   \n",
              "4                         NaN        NaN             NaN         NaN   \n",
              "\n",
              "  application_type        case_no case_number case_received_date case_status  \\\n",
              "0             PERM  A-07323-97014         NaN                NaN   Certified   \n",
              "1             PERM  A-07332-99439         NaN                NaN      Denied   \n",
              "2             PERM  A-07333-99643         NaN                NaN   Certified   \n",
              "3             PERM  A-07339-01930         NaN                NaN   Certified   \n",
              "4             PERM  A-07345-03565         NaN                NaN   Certified   \n",
              "\n",
              "  class_of_admission  ... ri_pvt_employment_firm_to ri_us_workers_considered  \\\n",
              "0                J-1  ...                       NaN                      NaN   \n",
              "1                B-2  ...                       NaN                      NaN   \n",
              "2               H-1B  ...                       NaN                      NaN   \n",
              "3                B-2  ...                       NaN                      NaN   \n",
              "4                L-1  ...                       NaN                      NaN   \n",
              "\n",
              "  schd_a_sheepherder     us_economic_sector wage_offer_from_9089  \\\n",
              "0                NaN                     IT              75629.0   \n",
              "1                NaN  Other Economic Sector              37024.0   \n",
              "2                NaN              Aerospace              47923.0   \n",
              "3                NaN  Other Economic Sector                10.97   \n",
              "4                NaN           Advanced Mfg             100000.0   \n",
              "\n",
              "  wage_offer_to_9089 wage_offer_unit_of_pay_9089 wage_offered_from_9089  \\\n",
              "0                NaN                          yr                    NaN   \n",
              "1                NaN                          yr                    NaN   \n",
              "2                NaN                          yr                    NaN   \n",
              "3                NaN                          hr                    NaN   \n",
              "4                NaN                          yr                    NaN   \n",
              "\n",
              "  wage_offered_to_9089  wage_offered_unit_of_pay_9089  \n",
              "0                  NaN                            NaN  \n",
              "1                  NaN                            NaN  \n",
              "2                  NaN                            NaN  \n",
              "3                  NaN                            NaN  \n",
              "4                  NaN                            NaN  \n",
              "\n",
              "[5 rows x 154 columns]"
            ],
            "text/html": [
              "\n",
              "  <div id=\"df-cf106aca-5246-4aef-ae1c-257552f7955d\">\n",
              "    <div class=\"colab-df-container\">\n",
              "      <div>\n",
              "<style scoped>\n",
              "    .dataframe tbody tr th:only-of-type {\n",
              "        vertical-align: middle;\n",
              "    }\n",
              "\n",
              "    .dataframe tbody tr th {\n",
              "        vertical-align: top;\n",
              "    }\n",
              "\n",
              "    .dataframe thead th {\n",
              "        text-align: right;\n",
              "    }\n",
              "</style>\n",
              "<table border=\"1\" class=\"dataframe\">\n",
              "  <thead>\n",
              "    <tr style=\"text-align: right;\">\n",
              "      <th></th>\n",
              "      <th>add_these_pw_job_title_9089</th>\n",
              "      <th>agent_city</th>\n",
              "      <th>agent_firm_name</th>\n",
              "      <th>agent_state</th>\n",
              "      <th>application_type</th>\n",
              "      <th>case_no</th>\n",
              "      <th>case_number</th>\n",
              "      <th>case_received_date</th>\n",
              "      <th>case_status</th>\n",
              "      <th>class_of_admission</th>\n",
              "      <th>...</th>\n",
              "      <th>ri_pvt_employment_firm_to</th>\n",
              "      <th>ri_us_workers_considered</th>\n",
              "      <th>schd_a_sheepherder</th>\n",
              "      <th>us_economic_sector</th>\n",
              "      <th>wage_offer_from_9089</th>\n",
              "      <th>wage_offer_to_9089</th>\n",
              "      <th>wage_offer_unit_of_pay_9089</th>\n",
              "      <th>wage_offered_from_9089</th>\n",
              "      <th>wage_offered_to_9089</th>\n",
              "      <th>wage_offered_unit_of_pay_9089</th>\n",
              "    </tr>\n",
              "  </thead>\n",
              "  <tbody>\n",
              "    <tr>\n",
              "      <th>0</th>\n",
              "      <td>NaN</td>\n",
              "      <td>NaN</td>\n",
              "      <td>NaN</td>\n",
              "      <td>NaN</td>\n",
              "      <td>PERM</td>\n",
              "      <td>A-07323-97014</td>\n",
              "      <td>NaN</td>\n",
              "      <td>NaN</td>\n",
              "      <td>Certified</td>\n",
              "      <td>J-1</td>\n",
              "      <td>...</td>\n",
              "      <td>NaN</td>\n",
              "      <td>NaN</td>\n",
              "      <td>NaN</td>\n",
              "      <td>IT</td>\n",
              "      <td>75629.0</td>\n",
              "      <td>NaN</td>\n",
              "      <td>yr</td>\n",
              "      <td>NaN</td>\n",
              "      <td>NaN</td>\n",
              "      <td>NaN</td>\n",
              "    </tr>\n",
              "    <tr>\n",
              "      <th>1</th>\n",
              "      <td>NaN</td>\n",
              "      <td>NaN</td>\n",
              "      <td>NaN</td>\n",
              "      <td>NaN</td>\n",
              "      <td>PERM</td>\n",
              "      <td>A-07332-99439</td>\n",
              "      <td>NaN</td>\n",
              "      <td>NaN</td>\n",
              "      <td>Denied</td>\n",
              "      <td>B-2</td>\n",
              "      <td>...</td>\n",
              "      <td>NaN</td>\n",
              "      <td>NaN</td>\n",
              "      <td>NaN</td>\n",
              "      <td>Other Economic Sector</td>\n",
              "      <td>37024.0</td>\n",
              "      <td>NaN</td>\n",
              "      <td>yr</td>\n",
              "      <td>NaN</td>\n",
              "      <td>NaN</td>\n",
              "      <td>NaN</td>\n",
              "    </tr>\n",
              "    <tr>\n",
              "      <th>2</th>\n",
              "      <td>NaN</td>\n",
              "      <td>NaN</td>\n",
              "      <td>NaN</td>\n",
              "      <td>NaN</td>\n",
              "      <td>PERM</td>\n",
              "      <td>A-07333-99643</td>\n",
              "      <td>NaN</td>\n",
              "      <td>NaN</td>\n",
              "      <td>Certified</td>\n",
              "      <td>H-1B</td>\n",
              "      <td>...</td>\n",
              "      <td>NaN</td>\n",
              "      <td>NaN</td>\n",
              "      <td>NaN</td>\n",
              "      <td>Aerospace</td>\n",
              "      <td>47923.0</td>\n",
              "      <td>NaN</td>\n",
              "      <td>yr</td>\n",
              "      <td>NaN</td>\n",
              "      <td>NaN</td>\n",
              "      <td>NaN</td>\n",
              "    </tr>\n",
              "    <tr>\n",
              "      <th>3</th>\n",
              "      <td>NaN</td>\n",
              "      <td>NaN</td>\n",
              "      <td>NaN</td>\n",
              "      <td>NaN</td>\n",
              "      <td>PERM</td>\n",
              "      <td>A-07339-01930</td>\n",
              "      <td>NaN</td>\n",
              "      <td>NaN</td>\n",
              "      <td>Certified</td>\n",
              "      <td>B-2</td>\n",
              "      <td>...</td>\n",
              "      <td>NaN</td>\n",
              "      <td>NaN</td>\n",
              "      <td>NaN</td>\n",
              "      <td>Other Economic Sector</td>\n",
              "      <td>10.97</td>\n",
              "      <td>NaN</td>\n",
              "      <td>hr</td>\n",
              "      <td>NaN</td>\n",
              "      <td>NaN</td>\n",
              "      <td>NaN</td>\n",
              "    </tr>\n",
              "    <tr>\n",
              "      <th>4</th>\n",
              "      <td>NaN</td>\n",
              "      <td>NaN</td>\n",
              "      <td>NaN</td>\n",
              "      <td>NaN</td>\n",
              "      <td>PERM</td>\n",
              "      <td>A-07345-03565</td>\n",
              "      <td>NaN</td>\n",
              "      <td>NaN</td>\n",
              "      <td>Certified</td>\n",
              "      <td>L-1</td>\n",
              "      <td>...</td>\n",
              "      <td>NaN</td>\n",
              "      <td>NaN</td>\n",
              "      <td>NaN</td>\n",
              "      <td>Advanced Mfg</td>\n",
              "      <td>100000.0</td>\n",
              "      <td>NaN</td>\n",
              "      <td>yr</td>\n",
              "      <td>NaN</td>\n",
              "      <td>NaN</td>\n",
              "      <td>NaN</td>\n",
              "    </tr>\n",
              "  </tbody>\n",
              "</table>\n",
              "<p>5 rows × 154 columns</p>\n",
              "</div>\n",
              "      <button class=\"colab-df-convert\" onclick=\"convertToInteractive('df-cf106aca-5246-4aef-ae1c-257552f7955d')\"\n",
              "              title=\"Convert this dataframe to an interactive table.\"\n",
              "              style=\"display:none;\">\n",
              "        \n",
              "  <svg xmlns=\"http://www.w3.org/2000/svg\" height=\"24px\"viewBox=\"0 0 24 24\"\n",
              "       width=\"24px\">\n",
              "    <path d=\"M0 0h24v24H0V0z\" fill=\"none\"/>\n",
              "    <path d=\"M18.56 5.44l.94 2.06.94-2.06 2.06-.94-2.06-.94-.94-2.06-.94 2.06-2.06.94zm-11 1L8.5 8.5l.94-2.06 2.06-.94-2.06-.94L8.5 2.5l-.94 2.06-2.06.94zm10 10l.94 2.06.94-2.06 2.06-.94-2.06-.94-.94-2.06-.94 2.06-2.06.94z\"/><path d=\"M17.41 7.96l-1.37-1.37c-.4-.4-.92-.59-1.43-.59-.52 0-1.04.2-1.43.59L10.3 9.45l-7.72 7.72c-.78.78-.78 2.05 0 2.83L4 21.41c.39.39.9.59 1.41.59.51 0 1.02-.2 1.41-.59l7.78-7.78 2.81-2.81c.8-.78.8-2.07 0-2.86zM5.41 20L4 18.59l7.72-7.72 1.47 1.35L5.41 20z\"/>\n",
              "  </svg>\n",
              "      </button>\n",
              "      \n",
              "  <style>\n",
              "    .colab-df-container {\n",
              "      display:flex;\n",
              "      flex-wrap:wrap;\n",
              "      gap: 12px;\n",
              "    }\n",
              "\n",
              "    .colab-df-convert {\n",
              "      background-color: #E8F0FE;\n",
              "      border: none;\n",
              "      border-radius: 50%;\n",
              "      cursor: pointer;\n",
              "      display: none;\n",
              "      fill: #1967D2;\n",
              "      height: 32px;\n",
              "      padding: 0 0 0 0;\n",
              "      width: 32px;\n",
              "    }\n",
              "\n",
              "    .colab-df-convert:hover {\n",
              "      background-color: #E2EBFA;\n",
              "      box-shadow: 0px 1px 2px rgba(60, 64, 67, 0.3), 0px 1px 3px 1px rgba(60, 64, 67, 0.15);\n",
              "      fill: #174EA6;\n",
              "    }\n",
              "\n",
              "    [theme=dark] .colab-df-convert {\n",
              "      background-color: #3B4455;\n",
              "      fill: #D2E3FC;\n",
              "    }\n",
              "\n",
              "    [theme=dark] .colab-df-convert:hover {\n",
              "      background-color: #434B5C;\n",
              "      box-shadow: 0px 1px 3px 1px rgba(0, 0, 0, 0.15);\n",
              "      filter: drop-shadow(0px 1px 2px rgba(0, 0, 0, 0.3));\n",
              "      fill: #FFFFFF;\n",
              "    }\n",
              "  </style>\n",
              "\n",
              "      <script>\n",
              "        const buttonEl =\n",
              "          document.querySelector('#df-cf106aca-5246-4aef-ae1c-257552f7955d button.colab-df-convert');\n",
              "        buttonEl.style.display =\n",
              "          google.colab.kernel.accessAllowed ? 'block' : 'none';\n",
              "\n",
              "        async function convertToInteractive(key) {\n",
              "          const element = document.querySelector('#df-cf106aca-5246-4aef-ae1c-257552f7955d');\n",
              "          const dataTable =\n",
              "            await google.colab.kernel.invokeFunction('convertToInteractive',\n",
              "                                                     [key], {});\n",
              "          if (!dataTable) return;\n",
              "\n",
              "          const docLinkHtml = 'Like what you see? Visit the ' +\n",
              "            '<a target=\"_blank\" href=https://colab.research.google.com/notebooks/data_table.ipynb>data table notebook</a>'\n",
              "            + ' to learn more about interactive tables.';\n",
              "          element.innerHTML = '';\n",
              "          dataTable['output_type'] = 'display_data';\n",
              "          await google.colab.output.renderOutput(dataTable, element);\n",
              "          const docLink = document.createElement('div');\n",
              "          docLink.innerHTML = docLinkHtml;\n",
              "          element.appendChild(docLink);\n",
              "        }\n",
              "      </script>\n",
              "    </div>\n",
              "  </div>\n",
              "  "
            ]
          },
          "metadata": {},
          "execution_count": 4
        }
      ]
    },
    {
      "cell_type": "markdown",
      "source": [
        "# 2.) Choose 4 features you think are important. Case_status is your target variable\n"
      ],
      "metadata": {
        "id": "lbkpNPyN-Gnk"
      }
    },
    {
      "cell_type": "code",
      "source": [
        "df_select = df[[\"case_status\", \"class_of_admission\",\"job_info_work_state\",\"wage_offer_from_9089\"]]"
      ],
      "metadata": {
        "id": "xQE60rwv98_F"
      },
      "execution_count": 82,
      "outputs": []
    },
    {
      "cell_type": "code",
      "source": [
        "df_select.head()"
      ],
      "metadata": {
        "id": "bkfqhq4J99A6",
        "colab": {
          "base_uri": "https://localhost:8080/",
          "height": 206
        },
        "outputId": "0d30257a-d827-4cd3-f987-965ad04eb6ca"
      },
      "execution_count": 83,
      "outputs": [
        {
          "output_type": "execute_result",
          "data": {
            "text/plain": [
              "  case_status class_of_admission job_info_work_state wage_offer_from_9089\n",
              "0   Certified                J-1                  NY              75629.0\n",
              "1      Denied                B-2                  NY              37024.0\n",
              "2   Certified               H-1B                  MD              47923.0\n",
              "3   Certified                B-2                  NY                10.97\n",
              "4   Certified                L-1                  NY             100000.0"
            ],
            "text/html": [
              "\n",
              "  <div id=\"df-1f69b76a-bf5f-47a0-bc1b-5bf772e3fb64\">\n",
              "    <div class=\"colab-df-container\">\n",
              "      <div>\n",
              "<style scoped>\n",
              "    .dataframe tbody tr th:only-of-type {\n",
              "        vertical-align: middle;\n",
              "    }\n",
              "\n",
              "    .dataframe tbody tr th {\n",
              "        vertical-align: top;\n",
              "    }\n",
              "\n",
              "    .dataframe thead th {\n",
              "        text-align: right;\n",
              "    }\n",
              "</style>\n",
              "<table border=\"1\" class=\"dataframe\">\n",
              "  <thead>\n",
              "    <tr style=\"text-align: right;\">\n",
              "      <th></th>\n",
              "      <th>case_status</th>\n",
              "      <th>class_of_admission</th>\n",
              "      <th>job_info_work_state</th>\n",
              "      <th>wage_offer_from_9089</th>\n",
              "    </tr>\n",
              "  </thead>\n",
              "  <tbody>\n",
              "    <tr>\n",
              "      <th>0</th>\n",
              "      <td>Certified</td>\n",
              "      <td>J-1</td>\n",
              "      <td>NY</td>\n",
              "      <td>75629.0</td>\n",
              "    </tr>\n",
              "    <tr>\n",
              "      <th>1</th>\n",
              "      <td>Denied</td>\n",
              "      <td>B-2</td>\n",
              "      <td>NY</td>\n",
              "      <td>37024.0</td>\n",
              "    </tr>\n",
              "    <tr>\n",
              "      <th>2</th>\n",
              "      <td>Certified</td>\n",
              "      <td>H-1B</td>\n",
              "      <td>MD</td>\n",
              "      <td>47923.0</td>\n",
              "    </tr>\n",
              "    <tr>\n",
              "      <th>3</th>\n",
              "      <td>Certified</td>\n",
              "      <td>B-2</td>\n",
              "      <td>NY</td>\n",
              "      <td>10.97</td>\n",
              "    </tr>\n",
              "    <tr>\n",
              "      <th>4</th>\n",
              "      <td>Certified</td>\n",
              "      <td>L-1</td>\n",
              "      <td>NY</td>\n",
              "      <td>100000.0</td>\n",
              "    </tr>\n",
              "  </tbody>\n",
              "</table>\n",
              "</div>\n",
              "      <button class=\"colab-df-convert\" onclick=\"convertToInteractive('df-1f69b76a-bf5f-47a0-bc1b-5bf772e3fb64')\"\n",
              "              title=\"Convert this dataframe to an interactive table.\"\n",
              "              style=\"display:none;\">\n",
              "        \n",
              "  <svg xmlns=\"http://www.w3.org/2000/svg\" height=\"24px\"viewBox=\"0 0 24 24\"\n",
              "       width=\"24px\">\n",
              "    <path d=\"M0 0h24v24H0V0z\" fill=\"none\"/>\n",
              "    <path d=\"M18.56 5.44l.94 2.06.94-2.06 2.06-.94-2.06-.94-.94-2.06-.94 2.06-2.06.94zm-11 1L8.5 8.5l.94-2.06 2.06-.94-2.06-.94L8.5 2.5l-.94 2.06-2.06.94zm10 10l.94 2.06.94-2.06 2.06-.94-2.06-.94-.94-2.06-.94 2.06-2.06.94z\"/><path d=\"M17.41 7.96l-1.37-1.37c-.4-.4-.92-.59-1.43-.59-.52 0-1.04.2-1.43.59L10.3 9.45l-7.72 7.72c-.78.78-.78 2.05 0 2.83L4 21.41c.39.39.9.59 1.41.59.51 0 1.02-.2 1.41-.59l7.78-7.78 2.81-2.81c.8-.78.8-2.07 0-2.86zM5.41 20L4 18.59l7.72-7.72 1.47 1.35L5.41 20z\"/>\n",
              "  </svg>\n",
              "      </button>\n",
              "      \n",
              "  <style>\n",
              "    .colab-df-container {\n",
              "      display:flex;\n",
              "      flex-wrap:wrap;\n",
              "      gap: 12px;\n",
              "    }\n",
              "\n",
              "    .colab-df-convert {\n",
              "      background-color: #E8F0FE;\n",
              "      border: none;\n",
              "      border-radius: 50%;\n",
              "      cursor: pointer;\n",
              "      display: none;\n",
              "      fill: #1967D2;\n",
              "      height: 32px;\n",
              "      padding: 0 0 0 0;\n",
              "      width: 32px;\n",
              "    }\n",
              "\n",
              "    .colab-df-convert:hover {\n",
              "      background-color: #E2EBFA;\n",
              "      box-shadow: 0px 1px 2px rgba(60, 64, 67, 0.3), 0px 1px 3px 1px rgba(60, 64, 67, 0.15);\n",
              "      fill: #174EA6;\n",
              "    }\n",
              "\n",
              "    [theme=dark] .colab-df-convert {\n",
              "      background-color: #3B4455;\n",
              "      fill: #D2E3FC;\n",
              "    }\n",
              "\n",
              "    [theme=dark] .colab-df-convert:hover {\n",
              "      background-color: #434B5C;\n",
              "      box-shadow: 0px 1px 3px 1px rgba(0, 0, 0, 0.15);\n",
              "      filter: drop-shadow(0px 1px 2px rgba(0, 0, 0, 0.3));\n",
              "      fill: #FFFFFF;\n",
              "    }\n",
              "  </style>\n",
              "\n",
              "      <script>\n",
              "        const buttonEl =\n",
              "          document.querySelector('#df-1f69b76a-bf5f-47a0-bc1b-5bf772e3fb64 button.colab-df-convert');\n",
              "        buttonEl.style.display =\n",
              "          google.colab.kernel.accessAllowed ? 'block' : 'none';\n",
              "\n",
              "        async function convertToInteractive(key) {\n",
              "          const element = document.querySelector('#df-1f69b76a-bf5f-47a0-bc1b-5bf772e3fb64');\n",
              "          const dataTable =\n",
              "            await google.colab.kernel.invokeFunction('convertToInteractive',\n",
              "                                                     [key], {});\n",
              "          if (!dataTable) return;\n",
              "\n",
              "          const docLinkHtml = 'Like what you see? Visit the ' +\n",
              "            '<a target=\"_blank\" href=https://colab.research.google.com/notebooks/data_table.ipynb>data table notebook</a>'\n",
              "            + ' to learn more about interactive tables.';\n",
              "          element.innerHTML = '';\n",
              "          dataTable['output_type'] = 'display_data';\n",
              "          await google.colab.output.renderOutput(dataTable, element);\n",
              "          const docLink = document.createElement('div');\n",
              "          docLink.innerHTML = docLinkHtml;\n",
              "          element.appendChild(docLink);\n",
              "        }\n",
              "      </script>\n",
              "    </div>\n",
              "  </div>\n",
              "  "
            ]
          },
          "metadata": {},
          "execution_count": 83
        }
      ]
    },
    {
      "cell_type": "markdown",
      "source": [
        "# 3.) Clean your data for a decision tree\n"
      ],
      "metadata": {
        "id": "bIJx2jvD-KEI"
      }
    },
    {
      "cell_type": "code",
      "source": [
        "df_select['wage_offer_from_9089'][[202865,209472]] = np.nan"
      ],
      "metadata": {
        "id": "vj5uNeAr99LE",
        "colab": {
          "base_uri": "https://localhost:8080/"
        },
        "outputId": "2fa12aa2-80f7-43d3-f7b4-70951ad0c033"
      },
      "execution_count": 84,
      "outputs": [
        {
          "output_type": "stream",
          "name": "stderr",
          "text": [
            "<ipython-input-84-7edc6b18fad7>:1: SettingWithCopyWarning: \n",
            "A value is trying to be set on a copy of a slice from a DataFrame\n",
            "\n",
            "See the caveats in the documentation: https://pandas.pydata.org/pandas-docs/stable/user_guide/indexing.html#returning-a-view-versus-a-copy\n",
            "  df_select['wage_offer_from_9089'][[202865,209472]] = np.nan\n"
          ]
        }
      ]
    },
    {
      "cell_type": "code",
      "source": [
        "df_select['wage_offer_from_9089'][135269:] =df_select['wage_offer_from_9089'][135269:].str.replace(',','')\n",
        "df_select['wage_offer_from_9089'][135269:] = pd.to_numeric(df_select['wage_offer_from_9089'][135269:])"
      ],
      "metadata": {
        "id": "VG0_5eniGH9P",
        "colab": {
          "base_uri": "https://localhost:8080/"
        },
        "outputId": "64ea6652-7b0f-447a-bff5-790b2a154b8e"
      },
      "execution_count": 85,
      "outputs": [
        {
          "output_type": "stream",
          "name": "stderr",
          "text": [
            "<ipython-input-85-d81e7fd696ee>:1: SettingWithCopyWarning: \n",
            "A value is trying to be set on a copy of a slice from a DataFrame\n",
            "\n",
            "See the caveats in the documentation: https://pandas.pydata.org/pandas-docs/stable/user_guide/indexing.html#returning-a-view-versus-a-copy\n",
            "  df_select['wage_offer_from_9089'][135269:] =df_select['wage_offer_from_9089'][135269:].str.replace(',','')\n",
            "<ipython-input-85-d81e7fd696ee>:2: SettingWithCopyWarning: \n",
            "A value is trying to be set on a copy of a slice from a DataFrame\n",
            "\n",
            "See the caveats in the documentation: https://pandas.pydata.org/pandas-docs/stable/user_guide/indexing.html#returning-a-view-versus-a-copy\n",
            "  df_select['wage_offer_from_9089'][135269:] = pd.to_numeric(df_select['wage_offer_from_9089'][135269:])\n"
          ]
        }
      ]
    },
    {
      "cell_type": "code",
      "source": [
        "df_select['wage_offer_from_9089'] = df_select['wage_offer_from_9089'].astype(float)\n",
        "df_select['wage_offer_from_9089'] = np.log(df_select['wage_offer_from_9089'])"
      ],
      "metadata": {
        "colab": {
          "base_uri": "https://localhost:8080/"
        },
        "id": "nRyLrpK3-9ty",
        "outputId": "735ec160-a34d-48b5-fa25-333581c5fd49"
      },
      "execution_count": 86,
      "outputs": [
        {
          "output_type": "stream",
          "name": "stderr",
          "text": [
            "<ipython-input-86-69302794debf>:1: SettingWithCopyWarning: \n",
            "A value is trying to be set on a copy of a slice from a DataFrame.\n",
            "Try using .loc[row_indexer,col_indexer] = value instead\n",
            "\n",
            "See the caveats in the documentation: https://pandas.pydata.org/pandas-docs/stable/user_guide/indexing.html#returning-a-view-versus-a-copy\n",
            "  df_select['wage_offer_from_9089'] = df_select['wage_offer_from_9089'].astype(float)\n",
            "<ipython-input-86-69302794debf>:2: SettingWithCopyWarning: \n",
            "A value is trying to be set on a copy of a slice from a DataFrame.\n",
            "Try using .loc[row_indexer,col_indexer] = value instead\n",
            "\n",
            "See the caveats in the documentation: https://pandas.pydata.org/pandas-docs/stable/user_guide/indexing.html#returning-a-view-versus-a-copy\n",
            "  df_select['wage_offer_from_9089'] = np.log(df_select['wage_offer_from_9089'])\n"
          ]
        }
      ]
    },
    {
      "cell_type": "code",
      "source": [
        "df_select.shape"
      ],
      "metadata": {
        "colab": {
          "base_uri": "https://localhost:8080/"
        },
        "id": "IxGLUXtpdOQq",
        "outputId": "7d5b5749-0f9f-49c0-a41c-9f380ff5fdaf"
      },
      "execution_count": 87,
      "outputs": [
        {
          "output_type": "execute_result",
          "data": {
            "text/plain": [
              "(374362, 4)"
            ]
          },
          "metadata": {},
          "execution_count": 87
        }
      ]
    },
    {
      "cell_type": "code",
      "source": [
        "df_select.isnull().sum()"
      ],
      "metadata": {
        "id": "D7n_cImg99F3",
        "colab": {
          "base_uri": "https://localhost:8080/"
        },
        "outputId": "15462412-70bb-4c2a-efb3-4fb1ff4a3609"
      },
      "execution_count": 88,
      "outputs": [
        {
          "output_type": "execute_result",
          "data": {
            "text/plain": [
              "case_status                  0\n",
              "class_of_admission       22845\n",
              "job_info_work_state        103\n",
              "wage_offer_from_9089    237611\n",
              "dtype: int64"
            ]
          },
          "metadata": {},
          "execution_count": 88
        }
      ]
    },
    {
      "cell_type": "code",
      "source": [
        "df_select.dropna(axis=0, how='any', inplace = True)"
      ],
      "metadata": {
        "colab": {
          "base_uri": "https://localhost:8080/"
        },
        "id": "3wD2BmATDDhh",
        "outputId": "4d6e7350-9195-420c-e453-3ae78891d3a8"
      },
      "execution_count": 89,
      "outputs": [
        {
          "output_type": "stream",
          "name": "stderr",
          "text": [
            "<ipython-input-89-0a95c742961e>:1: SettingWithCopyWarning: \n",
            "A value is trying to be set on a copy of a slice from a DataFrame\n",
            "\n",
            "See the caveats in the documentation: https://pandas.pydata.org/pandas-docs/stable/user_guide/indexing.html#returning-a-view-versus-a-copy\n",
            "  df_select.dropna(axis=0, how='any', inplace = True)\n"
          ]
        }
      ]
    },
    {
      "cell_type": "code",
      "source": [
        "df_select.shape"
      ],
      "metadata": {
        "colab": {
          "base_uri": "https://localhost:8080/"
        },
        "id": "0XCbyVC6DXGq",
        "outputId": "ebf68746-2c90-4ada-ff8a-a22659003631"
      },
      "execution_count": 90,
      "outputs": [
        {
          "output_type": "execute_result",
          "data": {
            "text/plain": [
              "(128186, 4)"
            ]
          },
          "metadata": {},
          "execution_count": 90
        }
      ]
    },
    {
      "cell_type": "code",
      "source": [
        "df_select.case_status.value_counts()"
      ],
      "metadata": {
        "colab": {
          "base_uri": "https://localhost:8080/"
        },
        "id": "WTt_A0pfgGCK",
        "outputId": "177aba48-d0b8-49c6-9196-e41bf597f11b"
      },
      "execution_count": 91,
      "outputs": [
        {
          "output_type": "execute_result",
          "data": {
            "text/plain": [
              "Certified            70762\n",
              "Certified-Expired    43183\n",
              "Denied                8243\n",
              "Withdrawn             5998\n",
              "Name: case_status, dtype: int64"
            ]
          },
          "metadata": {},
          "execution_count": 91
        }
      ]
    },
    {
      "cell_type": "code",
      "source": [
        "df_select['case_status'] = df_select['case_status'].replace('Certified', 3)\n",
        "df_select['case_status'] = df_select['case_status'].replace('Certified-Expired', 2)\n",
        "df_select['case_status'] = df_select['case_status'].replace('Withdrawn', 1)\n",
        "df_select['case_status'] = df_select['case_status'].replace('Denied', 0)\n",
        "df_select['job_info_work_state'] = df_select['job_info_work_state'].replace('CALIFORNIA', 'CA')\n",
        "df_select['job_info_work_state'] = df_select['job_info_work_state'].replace('TEXAS', 'TX')"
      ],
      "metadata": {
        "colab": {
          "base_uri": "https://localhost:8080/"
        },
        "id": "-fG3WubBfeq2",
        "outputId": "daaee9a1-2395-48c4-f922-772181f9aadc"
      },
      "execution_count": 101,
      "outputs": [
        {
          "output_type": "stream",
          "name": "stderr",
          "text": [
            "<ipython-input-101-fd83da9415cd>:1: SettingWithCopyWarning: \n",
            "A value is trying to be set on a copy of a slice from a DataFrame.\n",
            "Try using .loc[row_indexer,col_indexer] = value instead\n",
            "\n",
            "See the caveats in the documentation: https://pandas.pydata.org/pandas-docs/stable/user_guide/indexing.html#returning-a-view-versus-a-copy\n",
            "  df_select['case_status'] = df_select['case_status'].replace('Certified', 3)\n",
            "<ipython-input-101-fd83da9415cd>:2: SettingWithCopyWarning: \n",
            "A value is trying to be set on a copy of a slice from a DataFrame.\n",
            "Try using .loc[row_indexer,col_indexer] = value instead\n",
            "\n",
            "See the caveats in the documentation: https://pandas.pydata.org/pandas-docs/stable/user_guide/indexing.html#returning-a-view-versus-a-copy\n",
            "  df_select['case_status'] = df_select['case_status'].replace('Certified-Expired', 2)\n",
            "<ipython-input-101-fd83da9415cd>:3: SettingWithCopyWarning: \n",
            "A value is trying to be set on a copy of a slice from a DataFrame.\n",
            "Try using .loc[row_indexer,col_indexer] = value instead\n",
            "\n",
            "See the caveats in the documentation: https://pandas.pydata.org/pandas-docs/stable/user_guide/indexing.html#returning-a-view-versus-a-copy\n",
            "  df_select['case_status'] = df_select['case_status'].replace('Withdrawn', 1)\n",
            "<ipython-input-101-fd83da9415cd>:4: SettingWithCopyWarning: \n",
            "A value is trying to be set on a copy of a slice from a DataFrame.\n",
            "Try using .loc[row_indexer,col_indexer] = value instead\n",
            "\n",
            "See the caveats in the documentation: https://pandas.pydata.org/pandas-docs/stable/user_guide/indexing.html#returning-a-view-versus-a-copy\n",
            "  df_select['case_status'] = df_select['case_status'].replace('Denied', 0)\n",
            "<ipython-input-101-fd83da9415cd>:5: SettingWithCopyWarning: \n",
            "A value is trying to be set on a copy of a slice from a DataFrame.\n",
            "Try using .loc[row_indexer,col_indexer] = value instead\n",
            "\n",
            "See the caveats in the documentation: https://pandas.pydata.org/pandas-docs/stable/user_guide/indexing.html#returning-a-view-versus-a-copy\n",
            "  df_select['job_info_work_state'] = df_select['job_info_work_state'].replace('CALIFORNIA', 'CA')\n",
            "<ipython-input-101-fd83da9415cd>:6: SettingWithCopyWarning: \n",
            "A value is trying to be set on a copy of a slice from a DataFrame.\n",
            "Try using .loc[row_indexer,col_indexer] = value instead\n",
            "\n",
            "See the caveats in the documentation: https://pandas.pydata.org/pandas-docs/stable/user_guide/indexing.html#returning-a-view-versus-a-copy\n",
            "  df_select['job_info_work_state'] = df_select['job_info_work_state'].replace('TEXAS', 'TX')\n"
          ]
        }
      ]
    },
    {
      "cell_type": "code",
      "source": [
        "df_select.head()"
      ],
      "metadata": {
        "colab": {
          "base_uri": "https://localhost:8080/",
          "height": 206
        },
        "id": "gnCzOYqriraN",
        "outputId": "16f69c80-e815-4fe5-f6cf-6d907d685e75"
      },
      "execution_count": 103,
      "outputs": [
        {
          "output_type": "execute_result",
          "data": {
            "text/plain": [
              "   case_status class_of_admission job_info_work_state  wage_offer_from_9089\n",
              "0            3                J-1                  NY             11.233595\n",
              "1            0                B-2                  NY             10.519322\n",
              "2            3               H-1B                  MD             10.777351\n",
              "3            3                B-2                  NY              2.395164\n",
              "4            3                L-1                  NY             11.512925"
            ],
            "text/html": [
              "\n",
              "  <div id=\"df-5d061804-3de5-4ca7-86b2-3f966b034e6e\">\n",
              "    <div class=\"colab-df-container\">\n",
              "      <div>\n",
              "<style scoped>\n",
              "    .dataframe tbody tr th:only-of-type {\n",
              "        vertical-align: middle;\n",
              "    }\n",
              "\n",
              "    .dataframe tbody tr th {\n",
              "        vertical-align: top;\n",
              "    }\n",
              "\n",
              "    .dataframe thead th {\n",
              "        text-align: right;\n",
              "    }\n",
              "</style>\n",
              "<table border=\"1\" class=\"dataframe\">\n",
              "  <thead>\n",
              "    <tr style=\"text-align: right;\">\n",
              "      <th></th>\n",
              "      <th>case_status</th>\n",
              "      <th>class_of_admission</th>\n",
              "      <th>job_info_work_state</th>\n",
              "      <th>wage_offer_from_9089</th>\n",
              "    </tr>\n",
              "  </thead>\n",
              "  <tbody>\n",
              "    <tr>\n",
              "      <th>0</th>\n",
              "      <td>3</td>\n",
              "      <td>J-1</td>\n",
              "      <td>NY</td>\n",
              "      <td>11.233595</td>\n",
              "    </tr>\n",
              "    <tr>\n",
              "      <th>1</th>\n",
              "      <td>0</td>\n",
              "      <td>B-2</td>\n",
              "      <td>NY</td>\n",
              "      <td>10.519322</td>\n",
              "    </tr>\n",
              "    <tr>\n",
              "      <th>2</th>\n",
              "      <td>3</td>\n",
              "      <td>H-1B</td>\n",
              "      <td>MD</td>\n",
              "      <td>10.777351</td>\n",
              "    </tr>\n",
              "    <tr>\n",
              "      <th>3</th>\n",
              "      <td>3</td>\n",
              "      <td>B-2</td>\n",
              "      <td>NY</td>\n",
              "      <td>2.395164</td>\n",
              "    </tr>\n",
              "    <tr>\n",
              "      <th>4</th>\n",
              "      <td>3</td>\n",
              "      <td>L-1</td>\n",
              "      <td>NY</td>\n",
              "      <td>11.512925</td>\n",
              "    </tr>\n",
              "  </tbody>\n",
              "</table>\n",
              "</div>\n",
              "      <button class=\"colab-df-convert\" onclick=\"convertToInteractive('df-5d061804-3de5-4ca7-86b2-3f966b034e6e')\"\n",
              "              title=\"Convert this dataframe to an interactive table.\"\n",
              "              style=\"display:none;\">\n",
              "        \n",
              "  <svg xmlns=\"http://www.w3.org/2000/svg\" height=\"24px\"viewBox=\"0 0 24 24\"\n",
              "       width=\"24px\">\n",
              "    <path d=\"M0 0h24v24H0V0z\" fill=\"none\"/>\n",
              "    <path d=\"M18.56 5.44l.94 2.06.94-2.06 2.06-.94-2.06-.94-.94-2.06-.94 2.06-2.06.94zm-11 1L8.5 8.5l.94-2.06 2.06-.94-2.06-.94L8.5 2.5l-.94 2.06-2.06.94zm10 10l.94 2.06.94-2.06 2.06-.94-2.06-.94-.94-2.06-.94 2.06-2.06.94z\"/><path d=\"M17.41 7.96l-1.37-1.37c-.4-.4-.92-.59-1.43-.59-.52 0-1.04.2-1.43.59L10.3 9.45l-7.72 7.72c-.78.78-.78 2.05 0 2.83L4 21.41c.39.39.9.59 1.41.59.51 0 1.02-.2 1.41-.59l7.78-7.78 2.81-2.81c.8-.78.8-2.07 0-2.86zM5.41 20L4 18.59l7.72-7.72 1.47 1.35L5.41 20z\"/>\n",
              "  </svg>\n",
              "      </button>\n",
              "      \n",
              "  <style>\n",
              "    .colab-df-container {\n",
              "      display:flex;\n",
              "      flex-wrap:wrap;\n",
              "      gap: 12px;\n",
              "    }\n",
              "\n",
              "    .colab-df-convert {\n",
              "      background-color: #E8F0FE;\n",
              "      border: none;\n",
              "      border-radius: 50%;\n",
              "      cursor: pointer;\n",
              "      display: none;\n",
              "      fill: #1967D2;\n",
              "      height: 32px;\n",
              "      padding: 0 0 0 0;\n",
              "      width: 32px;\n",
              "    }\n",
              "\n",
              "    .colab-df-convert:hover {\n",
              "      background-color: #E2EBFA;\n",
              "      box-shadow: 0px 1px 2px rgba(60, 64, 67, 0.3), 0px 1px 3px 1px rgba(60, 64, 67, 0.15);\n",
              "      fill: #174EA6;\n",
              "    }\n",
              "\n",
              "    [theme=dark] .colab-df-convert {\n",
              "      background-color: #3B4455;\n",
              "      fill: #D2E3FC;\n",
              "    }\n",
              "\n",
              "    [theme=dark] .colab-df-convert:hover {\n",
              "      background-color: #434B5C;\n",
              "      box-shadow: 0px 1px 3px 1px rgba(0, 0, 0, 0.15);\n",
              "      filter: drop-shadow(0px 1px 2px rgba(0, 0, 0, 0.3));\n",
              "      fill: #FFFFFF;\n",
              "    }\n",
              "  </style>\n",
              "\n",
              "      <script>\n",
              "        const buttonEl =\n",
              "          document.querySelector('#df-5d061804-3de5-4ca7-86b2-3f966b034e6e button.colab-df-convert');\n",
              "        buttonEl.style.display =\n",
              "          google.colab.kernel.accessAllowed ? 'block' : 'none';\n",
              "\n",
              "        async function convertToInteractive(key) {\n",
              "          const element = document.querySelector('#df-5d061804-3de5-4ca7-86b2-3f966b034e6e');\n",
              "          const dataTable =\n",
              "            await google.colab.kernel.invokeFunction('convertToInteractive',\n",
              "                                                     [key], {});\n",
              "          if (!dataTable) return;\n",
              "\n",
              "          const docLinkHtml = 'Like what you see? Visit the ' +\n",
              "            '<a target=\"_blank\" href=https://colab.research.google.com/notebooks/data_table.ipynb>data table notebook</a>'\n",
              "            + ' to learn more about interactive tables.';\n",
              "          element.innerHTML = '';\n",
              "          dataTable['output_type'] = 'display_data';\n",
              "          await google.colab.output.renderOutput(dataTable, element);\n",
              "          const docLink = document.createElement('div');\n",
              "          docLink.innerHTML = docLinkHtml;\n",
              "          element.appendChild(docLink);\n",
              "        }\n",
              "      </script>\n",
              "    </div>\n",
              "  </div>\n",
              "  "
            ]
          },
          "metadata": {},
          "execution_count": 103
        }
      ]
    },
    {
      "cell_type": "code",
      "source": [
        "df_select.shape"
      ],
      "metadata": {
        "colab": {
          "base_uri": "https://localhost:8080/"
        },
        "id": "lw_M1O0RkxGO",
        "outputId": "3f6fa4d0-89b5-4282-9416-18e519b281ca"
      },
      "execution_count": 104,
      "outputs": [
        {
          "output_type": "execute_result",
          "data": {
            "text/plain": [
              "(128186, 4)"
            ]
          },
          "metadata": {},
          "execution_count": 104
        }
      ]
    },
    {
      "cell_type": "code",
      "source": [
        "dum_df = pd.get_dummies(df_select, columns=[\"class_of_admission\",\"job_info_work_state\"])"
      ],
      "metadata": {
        "id": "7KULasHMhXqU"
      },
      "execution_count": 105,
      "outputs": []
    },
    {
      "cell_type": "code",
      "source": [
        "X = dum_df.drop(columns = \"case_status\")\n",
        "y = df_select[\"case_status\"]"
      ],
      "metadata": {
        "id": "ROWpIW5LALWu"
      },
      "execution_count": 106,
      "outputs": []
    },
    {
      "cell_type": "markdown",
      "source": [
        "# 4.) Fit and plot a decision tree of depth X\n"
      ],
      "metadata": {
        "id": "PeurmqI4-OoC"
      }
    },
    {
      "cell_type": "code",
      "source": [
        "from sklearn import tree"
      ],
      "metadata": {
        "id": "6BiA8EgJcYoY"
      },
      "execution_count": 107,
      "outputs": []
    },
    {
      "cell_type": "code",
      "source": [
        "clf = tree.DecisionTreeClassifier(max_depth = 3)\n",
        "clf.fit(X,y)"
      ],
      "metadata": {
        "id": "udwK0byx-RLA",
        "colab": {
          "base_uri": "https://localhost:8080/",
          "height": 75
        },
        "outputId": "fc780213-c32a-4be5-e630-f50df3126d5c"
      },
      "execution_count": 108,
      "outputs": [
        {
          "output_type": "execute_result",
          "data": {
            "text/plain": [
              "DecisionTreeClassifier(max_depth=3)"
            ],
            "text/html": [
              "<style>#sk-container-id-3 {color: black;background-color: white;}#sk-container-id-3 pre{padding: 0;}#sk-container-id-3 div.sk-toggleable {background-color: white;}#sk-container-id-3 label.sk-toggleable__label {cursor: pointer;display: block;width: 100%;margin-bottom: 0;padding: 0.3em;box-sizing: border-box;text-align: center;}#sk-container-id-3 label.sk-toggleable__label-arrow:before {content: \"▸\";float: left;margin-right: 0.25em;color: #696969;}#sk-container-id-3 label.sk-toggleable__label-arrow:hover:before {color: black;}#sk-container-id-3 div.sk-estimator:hover label.sk-toggleable__label-arrow:before {color: black;}#sk-container-id-3 div.sk-toggleable__content {max-height: 0;max-width: 0;overflow: hidden;text-align: left;background-color: #f0f8ff;}#sk-container-id-3 div.sk-toggleable__content pre {margin: 0.2em;color: black;border-radius: 0.25em;background-color: #f0f8ff;}#sk-container-id-3 input.sk-toggleable__control:checked~div.sk-toggleable__content {max-height: 200px;max-width: 100%;overflow: auto;}#sk-container-id-3 input.sk-toggleable__control:checked~label.sk-toggleable__label-arrow:before {content: \"▾\";}#sk-container-id-3 div.sk-estimator input.sk-toggleable__control:checked~label.sk-toggleable__label {background-color: #d4ebff;}#sk-container-id-3 div.sk-label input.sk-toggleable__control:checked~label.sk-toggleable__label {background-color: #d4ebff;}#sk-container-id-3 input.sk-hidden--visually {border: 0;clip: rect(1px 1px 1px 1px);clip: rect(1px, 1px, 1px, 1px);height: 1px;margin: -1px;overflow: hidden;padding: 0;position: absolute;width: 1px;}#sk-container-id-3 div.sk-estimator {font-family: monospace;background-color: #f0f8ff;border: 1px dotted black;border-radius: 0.25em;box-sizing: border-box;margin-bottom: 0.5em;}#sk-container-id-3 div.sk-estimator:hover {background-color: #d4ebff;}#sk-container-id-3 div.sk-parallel-item::after {content: \"\";width: 100%;border-bottom: 1px solid gray;flex-grow: 1;}#sk-container-id-3 div.sk-label:hover label.sk-toggleable__label {background-color: #d4ebff;}#sk-container-id-3 div.sk-serial::before {content: \"\";position: absolute;border-left: 1px solid gray;box-sizing: border-box;top: 0;bottom: 0;left: 50%;z-index: 0;}#sk-container-id-3 div.sk-serial {display: flex;flex-direction: column;align-items: center;background-color: white;padding-right: 0.2em;padding-left: 0.2em;position: relative;}#sk-container-id-3 div.sk-item {position: relative;z-index: 1;}#sk-container-id-3 div.sk-parallel {display: flex;align-items: stretch;justify-content: center;background-color: white;position: relative;}#sk-container-id-3 div.sk-item::before, #sk-container-id-3 div.sk-parallel-item::before {content: \"\";position: absolute;border-left: 1px solid gray;box-sizing: border-box;top: 0;bottom: 0;left: 50%;z-index: -1;}#sk-container-id-3 div.sk-parallel-item {display: flex;flex-direction: column;z-index: 1;position: relative;background-color: white;}#sk-container-id-3 div.sk-parallel-item:first-child::after {align-self: flex-end;width: 50%;}#sk-container-id-3 div.sk-parallel-item:last-child::after {align-self: flex-start;width: 50%;}#sk-container-id-3 div.sk-parallel-item:only-child::after {width: 0;}#sk-container-id-3 div.sk-dashed-wrapped {border: 1px dashed gray;margin: 0 0.4em 0.5em 0.4em;box-sizing: border-box;padding-bottom: 0.4em;background-color: white;}#sk-container-id-3 div.sk-label label {font-family: monospace;font-weight: bold;display: inline-block;line-height: 1.2em;}#sk-container-id-3 div.sk-label-container {text-align: center;}#sk-container-id-3 div.sk-container {/* jupyter's `normalize.less` sets `[hidden] { display: none; }` but bootstrap.min.css set `[hidden] { display: none !important; }` so we also need the `!important` here to be able to override the default hidden behavior on the sphinx rendered scikit-learn.org. See: https://github.com/scikit-learn/scikit-learn/issues/21755 */display: inline-block !important;position: relative;}#sk-container-id-3 div.sk-text-repr-fallback {display: none;}</style><div id=\"sk-container-id-3\" class=\"sk-top-container\"><div class=\"sk-text-repr-fallback\"><pre>DecisionTreeClassifier(max_depth=3)</pre><b>In a Jupyter environment, please rerun this cell to show the HTML representation or trust the notebook. <br />On GitHub, the HTML representation is unable to render, please try loading this page with nbviewer.org.</b></div><div class=\"sk-container\" hidden><div class=\"sk-item\"><div class=\"sk-estimator sk-toggleable\"><input class=\"sk-toggleable__control sk-hidden--visually\" id=\"sk-estimator-id-3\" type=\"checkbox\" checked><label for=\"sk-estimator-id-3\" class=\"sk-toggleable__label sk-toggleable__label-arrow\">DecisionTreeClassifier</label><div class=\"sk-toggleable__content\"><pre>DecisionTreeClassifier(max_depth=3)</pre></div></div></div></div></div>"
            ]
          },
          "metadata": {},
          "execution_count": 108
        }
      ]
    },
    {
      "cell_type": "code",
      "source": [
        "plt.figure(figsize = (20,8))\n",
        "tree.plot_tree(clf,feature_names = X.columns, class_names = ['Denied','Withdrawn','Certified-Expired','Certified'])"
      ],
      "metadata": {
        "id": "nHqdtuh6cSf-",
        "colab": {
          "base_uri": "https://localhost:8080/",
          "height": 734
        },
        "outputId": "1d49b910-ec3a-4c75-befd-5641c2e0701e"
      },
      "execution_count": 111,
      "outputs": [
        {
          "output_type": "execute_result",
          "data": {
            "text/plain": [
              "[Text(0.5, 0.875, 'wage_offer_from_9089 <= 10.839\\ngini = 0.575\\nsamples = 128186\\nvalue = [8243, 5998, 43183, 70762]\\nclass = Certified'),\n",
              " Text(0.25, 0.625, 'class_of_admission_H-1B <= 0.5\\ngini = 0.622\\nsamples = 13596\\nvalue = [2718, 893, 2562, 7423]\\nclass = Certified'),\n",
              " Text(0.125, 0.375, 'class_of_admission_EWI <= 0.5\\ngini = 0.607\\nsamples = 8012\\nvalue = [1807, 598, 1088, 4519]\\nclass = Certified'),\n",
              " Text(0.0625, 0.125, 'gini = 0.595\\nsamples = 7316\\nvalue = [1507, 563, 990, 4256]\\nclass = Certified'),\n",
              " Text(0.1875, 0.125, 'gini = 0.649\\nsamples = 696\\nvalue = [300, 35, 98, 263]\\nclass = Denied'),\n",
              " Text(0.375, 0.375, 'job_info_work_state_MD <= 0.5\\ngini = 0.63\\nsamples = 5584\\nvalue = [911, 295, 1474, 2904]\\nclass = Certified'),\n",
              " Text(0.3125, 0.125, 'gini = 0.625\\nsamples = 5460\\nvalue = [822, 295, 1470, 2873]\\nclass = Certified'),\n",
              " Text(0.4375, 0.125, 'gini = 0.421\\nsamples = 124\\nvalue = [89, 0, 4, 31]\\nclass = Denied'),\n",
              " Text(0.75, 0.625, 'wage_offer_from_9089 <= 11.241\\ngini = 0.565\\nsamples = 114590\\nvalue = [5525, 5105, 40621, 63339]\\nclass = Certified'),\n",
              " Text(0.625, 0.375, 'job_info_work_state_TX <= 0.5\\ngini = 0.601\\nsamples = 25060\\nvalue = [1824, 1055, 10967, 11214]\\nclass = Certified'),\n",
              " Text(0.5625, 0.125, 'gini = 0.607\\nsamples = 18192\\nvalue = [1650, 949, 6242, 9351]\\nclass = Certified'),\n",
              " Text(0.6875, 0.125, 'gini = 0.452\\nsamples = 6868\\nvalue = [174, 106, 4725, 1863]\\nclass = Certified-Expired'),\n",
              " Text(0.875, 0.375, 'wage_offer_from_9089 <= 11.243\\ngini = 0.548\\nsamples = 89530\\nvalue = [3701, 4050, 29654, 52125]\\nclass = Certified'),\n",
              " Text(0.8125, 0.125, 'gini = 0.162\\nsamples = 1655\\nvalue = [38, 12, 93, 1512]\\nclass = Certified'),\n",
              " Text(0.9375, 0.125, 'gini = 0.551\\nsamples = 87875\\nvalue = [3663, 4038, 29561, 50613]\\nclass = Certified')]"
            ]
          },
          "metadata": {},
          "execution_count": 111
        },
        {
          "output_type": "display_data",
          "data": {
            "text/plain": [
              "<Figure size 1440x576 with 1 Axes>"
            ],
            "image/png": "[encoded data removed]"
          },
          "metadata": {
            "needs_background": "light"
          }
        }
      ]
    },
    {
      "cell_type": "code",
      "source": [
        "from sklearn.metrics import accuracy_score\n",
        "\n",
        "accuracy_score(\n",
        "  y,\n",
        "  clf.predict(X)\n",
        "  )"
      ],
      "metadata": {
        "colab": {
          "base_uri": "https://localhost:8080/"
        },
        "id": "Z0CNeSY3tk48",
        "outputId": "c487d4ca-e601-40ce-86b3-9440ba809eb0"
      },
      "execution_count": 114,
      "outputs": [
        {
          "output_type": "execute_result",
          "data": {
            "text/plain": [
              "0.5750940040254006"
            ]
          },
          "metadata": {},
          "execution_count": 114
        }
      ]
    },
    {
      "cell_type": "markdown",
      "source": [
        "# 5.) Write your interpretation of the largest (by sample size) leaf node\n"
      ],
      "metadata": {
        "id": "6isBwtmL-R4p"
      }
    },
    {
      "cell_type": "markdown",
      "source": [
        "From this tree we can say the most important feature is wage, if one's wage is above 76343, his visa is classified as Certified. This is consistent with the reality that valuable person are less likely be rejected."
      ],
      "metadata": {
        "id": "uQ19fYmSrYo-"
      }
    },
    {
      "cell_type": "markdown",
      "source": [
        "# 6.) Using a for loop, make your own train-test split and determine the best max_depth for out-of sample accuracy"
      ],
      "metadata": {
        "id": "aQa3sanl-XUk"
      }
    },
    {
      "cell_type": "code",
      "source": [
        "from sklearn.model_selection import train_test_split"
      ],
      "metadata": {
        "id": "vVaHpqf9wHj7"
      },
      "execution_count": 112,
      "outputs": []
    },
    {
      "cell_type": "code",
      "source": [
        "X_train, X_test, y_train, y_test = train_test_split(X, y, test_size = 0.3, random_state = 42)"
      ],
      "metadata": {
        "id": "YphNDj12aFhP"
      },
      "execution_count": 113,
      "outputs": []
    },
    {
      "cell_type": "code",
      "source": [
        "max_depths = [1,2,3,4,5,6,7,8,9,10]\n",
        "outputs = []\n",
        "\n",
        "for md in max_depths:\n",
        "  clf = tree.DecisionTreeClassifier(max_depth = md)\n",
        "  clf.fit(X_train,y_train)\n",
        "\n",
        "  oos_accuracy = accuracy_score(y_test, clf.predict(X_test))\n",
        "  outputs.append(oos_accuracy)"
      ],
      "metadata": {
        "id": "9QA-y6HCslBR"
      },
      "execution_count": 117,
      "outputs": []
    },
    {
      "cell_type": "code",
      "source": [
        "outputs"
      ],
      "metadata": {
        "id": "Em8NfyB_JeMs",
        "colab": {
          "base_uri": "https://localhost:8080/"
        },
        "outputId": "8ee44e57-6836-455f-a5a2-78dc48a596dc"
      },
      "execution_count": 118,
      "outputs": [
        {
          "output_type": "execute_result",
          "data": {
            "text/plain": [
              "[0.5512793842313293,\n",
              " 0.5512793842313293,\n",
              " 0.5753848554191804,\n",
              " 0.5814697316413564,\n",
              " 0.5897129186602871,\n",
              " 0.5901029748283753,\n",
              " 0.5908570834200125,\n",
              " 0.5923653006032868,\n",
              " 0.5934054503848554,\n",
              " 0.5937434990638651]"
            ]
          },
          "metadata": {},
          "execution_count": 118
        }
      ]
    }
  ]
}