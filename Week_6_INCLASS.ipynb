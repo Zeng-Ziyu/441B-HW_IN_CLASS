{
  "nbformat": 4,
  "nbformat_minor": 0,
  "metadata": {
    "colab": {
      "provenance": []
    },
    "kernelspec": {
      "name": "python3",
      "display_name": "Python 3"
    },
    "language_info": {
      "name": "python"
    }
  },
  "cells": [
    {
      "cell_type": "markdown",
      "source": [
        "# 1.) Preprocess your data into scaled input variables and an output variable\n"
      ],
      "metadata": {
        "id": "7ywSRtNI4s5h"
      }
    },
    {
      "cell_type": "code",
      "execution_count": 6,
      "metadata": {
        "id": "nsG1QV154GYZ"
      },
      "outputs": [],
      "source": [
        "import pandas as pd\n",
        "from google.colab import drive\n",
        "import matplotlib.pyplot as plt\n",
        "import numpy as np\n",
        "import datetime"
      ]
    },
    {
      "cell_type": "code",
      "source": [
        "drive.mount('/content/gdrive/', force_remount = True)"
      ],
      "metadata": {
        "colab": {
          "base_uri": "https://localhost:8080/"
        },
        "id": "Iku0T8Ou4Lcu",
        "outputId": "bfd5ddc5-85c8-4dbb-fc06-63c132ef5392"
      },
      "execution_count": 7,
      "outputs": [
        {
          "output_type": "stream",
          "name": "stdout",
          "text": [
            "Mounted at /content/gdrive/\n"
          ]
        }
      ]
    },
    {
      "cell_type": "code",
      "source": [
        "df = pd.read_csv(\"/content/gdrive/MyDrive/ECON441B/Week6/CLV.csv\")\n"
      ],
      "metadata": {
        "id": "Q7XmCWs_rULl"
      },
      "execution_count": 8,
      "outputs": []
    },
    {
      "cell_type": "code",
      "source": [
        "df.head()"
      ],
      "metadata": {
        "colab": {
          "base_uri": "https://localhost:8080/",
          "height": 322
        },
        "id": "hN53osSaWoJd",
        "outputId": "f5da83f7-0905-4f69-f267-ff48675068bf"
      },
      "execution_count": 9,
      "outputs": [
        {
          "output_type": "execute_result",
          "data": {
            "text/plain": [
              "   Unnamed: 0  Customer Lifetime Value  Income  Number of Policies  \\\n",
              "0           0              2763.519279   56274                   1   \n",
              "1           1              6979.535903       0                   8   \n",
              "2           2             12887.431650   48767                   2   \n",
              "3           3              7645.861827       0                   7   \n",
              "4           4              2813.692575   43836                   1   \n",
              "\n",
              "   Total Claim Amount  Months Since Last Claim  Vehicle Size_Large  \\\n",
              "0          384.811147                       32                   0   \n",
              "1         1131.464935                       13                   0   \n",
              "2          566.472247                       18                   0   \n",
              "3          529.881344                       18                   0   \n",
              "4          138.130879                       12                   0   \n",
              "\n",
              "   Vehicle Size_Medsize  Gender_M  EmploymentStatus_Employed  \\\n",
              "0                     1         0                          1   \n",
              "1                     1         0                          0   \n",
              "2                     1         0                          1   \n",
              "3                     1         1                          0   \n",
              "4                     1         1                          1   \n",
              "\n",
              "   EmploymentStatus_Medical Leave  EmploymentStatus_Retired  \\\n",
              "0                               0                         0   \n",
              "1                               0                         0   \n",
              "2                               0                         0   \n",
              "3                               0                         0   \n",
              "4                               0                         0   \n",
              "\n",
              "   EmploymentStatus_Unemployed  Policy Type_Corporate Auto  \\\n",
              "0                            0                           1   \n",
              "1                            1                           0   \n",
              "2                            0                           0   \n",
              "3                            1                           1   \n",
              "4                            0                           0   \n",
              "\n",
              "   Policy Type_Personal Auto  Marital Status_Divorced  Marital Status_Married  \\\n",
              "0                          0                        0                       1   \n",
              "1                          1                        0                       0   \n",
              "2                          1                        0                       1   \n",
              "3                          0                        0                       1   \n",
              "4                          1                        0                       0   \n",
              "\n",
              "   Marital Status_Single  \n",
              "0                      0  \n",
              "1                      1  \n",
              "2                      0  \n",
              "3                      0  \n",
              "4                      1  "
            ],
            "text/html": [
              "\n",
              "  <div id=\"df-c385e313-1d7b-4b31-bd85-e92a469ef66f\">\n",
              "    <div class=\"colab-df-container\">\n",
              "      <div>\n",
              "<style scoped>\n",
              "    .dataframe tbody tr th:only-of-type {\n",
              "        vertical-align: middle;\n",
              "    }\n",
              "\n",
              "    .dataframe tbody tr th {\n",
              "        vertical-align: top;\n",
              "    }\n",
              "\n",
              "    .dataframe thead th {\n",
              "        text-align: right;\n",
              "    }\n",
              "</style>\n",
              "<table border=\"1\" class=\"dataframe\">\n",
              "  <thead>\n",
              "    <tr style=\"text-align: right;\">\n",
              "      <th></th>\n",
              "      <th>Unnamed: 0</th>\n",
              "      <th>Customer Lifetime Value</th>\n",
              "      <th>Income</th>\n",
              "      <th>Number of Policies</th>\n",
              "      <th>Total Claim Amount</th>\n",
              "      <th>Months Since Last Claim</th>\n",
              "      <th>Vehicle Size_Large</th>\n",
              "      <th>Vehicle Size_Medsize</th>\n",
              "      <th>Gender_M</th>\n",
              "      <th>EmploymentStatus_Employed</th>\n",
              "      <th>EmploymentStatus_Medical Leave</th>\n",
              "      <th>EmploymentStatus_Retired</th>\n",
              "      <th>EmploymentStatus_Unemployed</th>\n",
              "      <th>Policy Type_Corporate Auto</th>\n",
              "      <th>Policy Type_Personal Auto</th>\n",
              "      <th>Marital Status_Divorced</th>\n",
              "      <th>Marital Status_Married</th>\n",
              "      <th>Marital Status_Single</th>\n",
              "    </tr>\n",
              "  </thead>\n",
              "  <tbody>\n",
              "    <tr>\n",
              "      <th>0</th>\n",
              "      <td>0</td>\n",
              "      <td>2763.519279</td>\n",
              "      <td>56274</td>\n",
              "      <td>1</td>\n",
              "      <td>384.811147</td>\n",
              "      <td>32</td>\n",
              "      <td>0</td>\n",
              "      <td>1</td>\n",
              "      <td>0</td>\n",
              "      <td>1</td>\n",
              "      <td>0</td>\n",
              "      <td>0</td>\n",
              "      <td>0</td>\n",
              "      <td>1</td>\n",
              "      <td>0</td>\n",
              "      <td>0</td>\n",
              "      <td>1</td>\n",
              "      <td>0</td>\n",
              "    </tr>\n",
              "    <tr>\n",
              "      <th>1</th>\n",
              "      <td>1</td>\n",
              "      <td>6979.535903</td>\n",
              "      <td>0</td>\n",
              "      <td>8</td>\n",
              "      <td>1131.464935</td>\n",
              "      <td>13</td>\n",
              "      <td>0</td>\n",
              "      <td>1</td>\n",
              "      <td>0</td>\n",
              "      <td>0</td>\n",
              "      <td>0</td>\n",
              "      <td>0</td>\n",
              "      <td>1</td>\n",
              "      <td>0</td>\n",
              "      <td>1</td>\n",
              "      <td>0</td>\n",
              "      <td>0</td>\n",
              "      <td>1</td>\n",
              "    </tr>\n",
              "    <tr>\n",
              "      <th>2</th>\n",
              "      <td>2</td>\n",
              "      <td>12887.431650</td>\n",
              "      <td>48767</td>\n",
              "      <td>2</td>\n",
              "      <td>566.472247</td>\n",
              "      <td>18</td>\n",
              "      <td>0</td>\n",
              "      <td>1</td>\n",
              "      <td>0</td>\n",
              "      <td>1</td>\n",
              "      <td>0</td>\n",
              "      <td>0</td>\n",
              "      <td>0</td>\n",
              "      <td>0</td>\n",
              "      <td>1</td>\n",
              "      <td>0</td>\n",
              "      <td>1</td>\n",
              "      <td>0</td>\n",
              "    </tr>\n",
              "    <tr>\n",
              "      <th>3</th>\n",
              "      <td>3</td>\n",
              "      <td>7645.861827</td>\n",
              "      <td>0</td>\n",
              "      <td>7</td>\n",
              "      <td>529.881344</td>\n",
              "      <td>18</td>\n",
              "      <td>0</td>\n",
              "      <td>1</td>\n",
              "      <td>1</td>\n",
              "      <td>0</td>\n",
              "      <td>0</td>\n",
              "      <td>0</td>\n",
              "      <td>1</td>\n",
              "      <td>1</td>\n",
              "      <td>0</td>\n",
              "      <td>0</td>\n",
              "      <td>1</td>\n",
              "      <td>0</td>\n",
              "    </tr>\n",
              "    <tr>\n",
              "      <th>4</th>\n",
              "      <td>4</td>\n",
              "      <td>2813.692575</td>\n",
              "      <td>43836</td>\n",
              "      <td>1</td>\n",
              "      <td>138.130879</td>\n",
              "      <td>12</td>\n",
              "      <td>0</td>\n",
              "      <td>1</td>\n",
              "      <td>1</td>\n",
              "      <td>1</td>\n",
              "      <td>0</td>\n",
              "      <td>0</td>\n",
              "      <td>0</td>\n",
              "      <td>0</td>\n",
              "      <td>1</td>\n",
              "      <td>0</td>\n",
              "      <td>0</td>\n",
              "      <td>1</td>\n",
              "    </tr>\n",
              "  </tbody>\n",
              "</table>\n",
              "</div>\n",
              "      <button class=\"colab-df-convert\" onclick=\"convertToInteractive('df-c385e313-1d7b-4b31-bd85-e92a469ef66f')\"\n",
              "              title=\"Convert this dataframe to an interactive table.\"\n",
              "              style=\"display:none;\">\n",
              "        \n",
              "  <svg xmlns=\"http://www.w3.org/2000/svg\" height=\"24px\"viewBox=\"0 0 24 24\"\n",
              "       width=\"24px\">\n",
              "    <path d=\"M0 0h24v24H0V0z\" fill=\"none\"/>\n",
              "    <path d=\"M18.56 5.44l.94 2.06.94-2.06 2.06-.94-2.06-.94-.94-2.06-.94 2.06-2.06.94zm-11 1L8.5 8.5l.94-2.06 2.06-.94-2.06-.94L8.5 2.5l-.94 2.06-2.06.94zm10 10l.94 2.06.94-2.06 2.06-.94-2.06-.94-.94-2.06-.94 2.06-2.06.94z\"/><path d=\"M17.41 7.96l-1.37-1.37c-.4-.4-.92-.59-1.43-.59-.52 0-1.04.2-1.43.59L10.3 9.45l-7.72 7.72c-.78.78-.78 2.05 0 2.83L4 21.41c.39.39.9.59 1.41.59.51 0 1.02-.2 1.41-.59l7.78-7.78 2.81-2.81c.8-.78.8-2.07 0-2.86zM5.41 20L4 18.59l7.72-7.72 1.47 1.35L5.41 20z\"/>\n",
              "  </svg>\n",
              "      </button>\n",
              "      \n",
              "  <style>\n",
              "    .colab-df-container {\n",
              "      display:flex;\n",
              "      flex-wrap:wrap;\n",
              "      gap: 12px;\n",
              "    }\n",
              "\n",
              "    .colab-df-convert {\n",
              "      background-color: #E8F0FE;\n",
              "      border: none;\n",
              "      border-radius: 50%;\n",
              "      cursor: pointer;\n",
              "      display: none;\n",
              "      fill: #1967D2;\n",
              "      height: 32px;\n",
              "      padding: 0 0 0 0;\n",
              "      width: 32px;\n",
              "    }\n",
              "\n",
              "    .colab-df-convert:hover {\n",
              "      background-color: #E2EBFA;\n",
              "      box-shadow: 0px 1px 2px rgba(60, 64, 67, 0.3), 0px 1px 3px 1px rgba(60, 64, 67, 0.15);\n",
              "      fill: #174EA6;\n",
              "    }\n",
              "\n",
              "    [theme=dark] .colab-df-convert {\n",
              "      background-color: #3B4455;\n",
              "      fill: #D2E3FC;\n",
              "    }\n",
              "\n",
              "    [theme=dark] .colab-df-convert:hover {\n",
              "      background-color: #434B5C;\n",
              "      box-shadow: 0px 1px 3px 1px rgba(0, 0, 0, 0.15);\n",
              "      filter: drop-shadow(0px 1px 2px rgba(0, 0, 0, 0.3));\n",
              "      fill: #FFFFFF;\n",
              "    }\n",
              "  </style>\n",
              "\n",
              "      <script>\n",
              "        const buttonEl =\n",
              "          document.querySelector('#df-c385e313-1d7b-4b31-bd85-e92a469ef66f button.colab-df-convert');\n",
              "        buttonEl.style.display =\n",
              "          google.colab.kernel.accessAllowed ? 'block' : 'none';\n",
              "\n",
              "        async function convertToInteractive(key) {\n",
              "          const element = document.querySelector('#df-c385e313-1d7b-4b31-bd85-e92a469ef66f');\n",
              "          const dataTable =\n",
              "            await google.colab.kernel.invokeFunction('convertToInteractive',\n",
              "                                                     [key], {});\n",
              "          if (!dataTable) return;\n",
              "\n",
              "          const docLinkHtml = 'Like what you see? Visit the ' +\n",
              "            '<a target=\"_blank\" href=https://colab.research.google.com/notebooks/data_table.ipynb>data table notebook</a>'\n",
              "            + ' to learn more about interactive tables.';\n",
              "          element.innerHTML = '';\n",
              "          dataTable['output_type'] = 'display_data';\n",
              "          await google.colab.output.renderOutput(dataTable, element);\n",
              "          const docLink = document.createElement('div');\n",
              "          docLink.innerHTML = docLinkHtml;\n",
              "          element.appendChild(docLink);\n",
              "        }\n",
              "      </script>\n",
              "    </div>\n",
              "  </div>\n",
              "  "
            ]
          },
          "metadata": {},
          "execution_count": 9
        }
      ]
    },
    {
      "cell_type": "code",
      "source": [
        "df.describe()"
      ],
      "metadata": {
        "colab": {
          "base_uri": "https://localhost:8080/",
          "height": 399
        },
        "id": "8wGMrZK-y5ck",
        "outputId": "5971916f-1636-491d-ae05-b025944c34ef"
      },
      "execution_count": 10,
      "outputs": [
        {
          "output_type": "execute_result",
          "data": {
            "text/plain": [
              "        Unnamed: 0  Customer Lifetime Value        Income  Number of Policies  \\\n",
              "count  9134.000000              9134.000000   9134.000000         9134.000000   \n",
              "mean   4566.500000              8004.940475  37657.380009            2.966170   \n",
              "std    2636.903013              6870.967608  30379.904734            2.390182   \n",
              "min       0.000000              1898.007675      0.000000            1.000000   \n",
              "25%    2283.250000              3994.251794      0.000000            1.000000   \n",
              "50%    4566.500000              5780.182197  33889.500000            2.000000   \n",
              "75%    6849.750000              8962.167041  62320.000000            4.000000   \n",
              "max    9133.000000             83325.381190  99981.000000            9.000000   \n",
              "\n",
              "       Total Claim Amount  Months Since Last Claim  Vehicle Size_Large  \\\n",
              "count         9134.000000              9134.000000         9134.000000   \n",
              "mean           434.088794                15.097000            0.103569   \n",
              "std            290.500092                10.073257            0.304717   \n",
              "min              0.099007                 0.000000            0.000000   \n",
              "25%            272.258244                 6.000000            0.000000   \n",
              "50%            383.945434                14.000000            0.000000   \n",
              "75%            547.514839                23.000000            0.000000   \n",
              "max           2893.239678                35.000000            1.000000   \n",
              "\n",
              "       Vehicle Size_Medsize     Gender_M  EmploymentStatus_Employed  \\\n",
              "count           9134.000000  9134.000000                9134.000000   \n",
              "mean               0.703306     0.490037                   0.623823   \n",
              "std                0.456825     0.499928                   0.484452   \n",
              "min                0.000000     0.000000                   0.000000   \n",
              "25%                0.000000     0.000000                   0.000000   \n",
              "50%                1.000000     0.000000                   1.000000   \n",
              "75%                1.000000     1.000000                   1.000000   \n",
              "max                1.000000     1.000000                   1.000000   \n",
              "\n",
              "       EmploymentStatus_Medical Leave  EmploymentStatus_Retired  \\\n",
              "count                     9134.000000               9134.000000   \n",
              "mean                         0.047296                  0.030874   \n",
              "std                          0.212282                  0.172985   \n",
              "min                          0.000000                  0.000000   \n",
              "25%                          0.000000                  0.000000   \n",
              "50%                          0.000000                  0.000000   \n",
              "75%                          0.000000                  0.000000   \n",
              "max                          1.000000                  1.000000   \n",
              "\n",
              "       EmploymentStatus_Unemployed  Policy Type_Corporate Auto  \\\n",
              "count                  9134.000000                 9134.000000   \n",
              "mean                      0.253668                    0.215459   \n",
              "std                       0.435133                    0.411163   \n",
              "min                       0.000000                    0.000000   \n",
              "25%                       0.000000                    0.000000   \n",
              "50%                       0.000000                    0.000000   \n",
              "75%                       1.000000                    0.000000   \n",
              "max                       1.000000                    1.000000   \n",
              "\n",
              "       Policy Type_Personal Auto  Marital Status_Divorced  \\\n",
              "count                9134.000000              9134.000000   \n",
              "mean                    0.743157                 0.149880   \n",
              "std                     0.436916                 0.356973   \n",
              "min                     0.000000                 0.000000   \n",
              "25%                     0.000000                 0.000000   \n",
              "50%                     1.000000                 0.000000   \n",
              "75%                     1.000000                 0.000000   \n",
              "max                     1.000000                 1.000000   \n",
              "\n",
              "       Marital Status_Married  Marital Status_Single  \n",
              "count             9134.000000             9134.00000  \n",
              "mean                 0.580031                0.27009  \n",
              "std                  0.493581                0.44403  \n",
              "min                  0.000000                0.00000  \n",
              "25%                  0.000000                0.00000  \n",
              "50%                  1.000000                0.00000  \n",
              "75%                  1.000000                1.00000  \n",
              "max                  1.000000                1.00000  "
            ],
            "text/html": [
              "\n",
              "  <div id=\"df-141661b9-61d4-431e-8026-4d6ab83d3301\">\n",
              "    <div class=\"colab-df-container\">\n",
              "      <div>\n",
              "<style scoped>\n",
              "    .dataframe tbody tr th:only-of-type {\n",
              "        vertical-align: middle;\n",
              "    }\n",
              "\n",
              "    .dataframe tbody tr th {\n",
              "        vertical-align: top;\n",
              "    }\n",
              "\n",
              "    .dataframe thead th {\n",
              "        text-align: right;\n",
              "    }\n",
              "</style>\n",
              "<table border=\"1\" class=\"dataframe\">\n",
              "  <thead>\n",
              "    <tr style=\"text-align: right;\">\n",
              "      <th></th>\n",
              "      <th>Unnamed: 0</th>\n",
              "      <th>Customer Lifetime Value</th>\n",
              "      <th>Income</th>\n",
              "      <th>Number of Policies</th>\n",
              "      <th>Total Claim Amount</th>\n",
              "      <th>Months Since Last Claim</th>\n",
              "      <th>Vehicle Size_Large</th>\n",
              "      <th>Vehicle Size_Medsize</th>\n",
              "      <th>Gender_M</th>\n",
              "      <th>EmploymentStatus_Employed</th>\n",
              "      <th>EmploymentStatus_Medical Leave</th>\n",
              "      <th>EmploymentStatus_Retired</th>\n",
              "      <th>EmploymentStatus_Unemployed</th>\n",
              "      <th>Policy Type_Corporate Auto</th>\n",
              "      <th>Policy Type_Personal Auto</th>\n",
              "      <th>Marital Status_Divorced</th>\n",
              "      <th>Marital Status_Married</th>\n",
              "      <th>Marital Status_Single</th>\n",
              "    </tr>\n",
              "  </thead>\n",
              "  <tbody>\n",
              "    <tr>\n",
              "      <th>count</th>\n",
              "      <td>9134.000000</td>\n",
              "      <td>9134.000000</td>\n",
              "      <td>9134.000000</td>\n",
              "      <td>9134.000000</td>\n",
              "      <td>9134.000000</td>\n",
              "      <td>9134.000000</td>\n",
              "      <td>9134.000000</td>\n",
              "      <td>9134.000000</td>\n",
              "      <td>9134.000000</td>\n",
              "      <td>9134.000000</td>\n",
              "      <td>9134.000000</td>\n",
              "      <td>9134.000000</td>\n",
              "      <td>9134.000000</td>\n",
              "      <td>9134.000000</td>\n",
              "      <td>9134.000000</td>\n",
              "      <td>9134.000000</td>\n",
              "      <td>9134.000000</td>\n",
              "      <td>9134.00000</td>\n",
              "    </tr>\n",
              "    <tr>\n",
              "      <th>mean</th>\n",
              "      <td>4566.500000</td>\n",
              "      <td>8004.940475</td>\n",
              "      <td>37657.380009</td>\n",
              "      <td>2.966170</td>\n",
              "      <td>434.088794</td>\n",
              "      <td>15.097000</td>\n",
              "      <td>0.103569</td>\n",
              "      <td>0.703306</td>\n",
              "      <td>0.490037</td>\n",
              "      <td>0.623823</td>\n",
              "      <td>0.047296</td>\n",
              "      <td>0.030874</td>\n",
              "      <td>0.253668</td>\n",
              "      <td>0.215459</td>\n",
              "      <td>0.743157</td>\n",
              "      <td>0.149880</td>\n",
              "      <td>0.580031</td>\n",
              "      <td>0.27009</td>\n",
              "    </tr>\n",
              "    <tr>\n",
              "      <th>std</th>\n",
              "      <td>2636.903013</td>\n",
              "      <td>6870.967608</td>\n",
              "      <td>30379.904734</td>\n",
              "      <td>2.390182</td>\n",
              "      <td>290.500092</td>\n",
              "      <td>10.073257</td>\n",
              "      <td>0.304717</td>\n",
              "      <td>0.456825</td>\n",
              "      <td>0.499928</td>\n",
              "      <td>0.484452</td>\n",
              "      <td>0.212282</td>\n",
              "      <td>0.172985</td>\n",
              "      <td>0.435133</td>\n",
              "      <td>0.411163</td>\n",
              "      <td>0.436916</td>\n",
              "      <td>0.356973</td>\n",
              "      <td>0.493581</td>\n",
              "      <td>0.44403</td>\n",
              "    </tr>\n",
              "    <tr>\n",
              "      <th>min</th>\n",
              "      <td>0.000000</td>\n",
              "      <td>1898.007675</td>\n",
              "      <td>0.000000</td>\n",
              "      <td>1.000000</td>\n",
              "      <td>0.099007</td>\n",
              "      <td>0.000000</td>\n",
              "      <td>0.000000</td>\n",
              "      <td>0.000000</td>\n",
              "      <td>0.000000</td>\n",
              "      <td>0.000000</td>\n",
              "      <td>0.000000</td>\n",
              "      <td>0.000000</td>\n",
              "      <td>0.000000</td>\n",
              "      <td>0.000000</td>\n",
              "      <td>0.000000</td>\n",
              "      <td>0.000000</td>\n",
              "      <td>0.000000</td>\n",
              "      <td>0.00000</td>\n",
              "    </tr>\n",
              "    <tr>\n",
              "      <th>25%</th>\n",
              "      <td>2283.250000</td>\n",
              "      <td>3994.251794</td>\n",
              "      <td>0.000000</td>\n",
              "      <td>1.000000</td>\n",
              "      <td>272.258244</td>\n",
              "      <td>6.000000</td>\n",
              "      <td>0.000000</td>\n",
              "      <td>0.000000</td>\n",
              "      <td>0.000000</td>\n",
              "      <td>0.000000</td>\n",
              "      <td>0.000000</td>\n",
              "      <td>0.000000</td>\n",
              "      <td>0.000000</td>\n",
              "      <td>0.000000</td>\n",
              "      <td>0.000000</td>\n",
              "      <td>0.000000</td>\n",
              "      <td>0.000000</td>\n",
              "      <td>0.00000</td>\n",
              "    </tr>\n",
              "    <tr>\n",
              "      <th>50%</th>\n",
              "      <td>4566.500000</td>\n",
              "      <td>5780.182197</td>\n",
              "      <td>33889.500000</td>\n",
              "      <td>2.000000</td>\n",
              "      <td>383.945434</td>\n",
              "      <td>14.000000</td>\n",
              "      <td>0.000000</td>\n",
              "      <td>1.000000</td>\n",
              "      <td>0.000000</td>\n",
              "      <td>1.000000</td>\n",
              "      <td>0.000000</td>\n",
              "      <td>0.000000</td>\n",
              "      <td>0.000000</td>\n",
              "      <td>0.000000</td>\n",
              "      <td>1.000000</td>\n",
              "      <td>0.000000</td>\n",
              "      <td>1.000000</td>\n",
              "      <td>0.00000</td>\n",
              "    </tr>\n",
              "    <tr>\n",
              "      <th>75%</th>\n",
              "      <td>6849.750000</td>\n",
              "      <td>8962.167041</td>\n",
              "      <td>62320.000000</td>\n",
              "      <td>4.000000</td>\n",
              "      <td>547.514839</td>\n",
              "      <td>23.000000</td>\n",
              "      <td>0.000000</td>\n",
              "      <td>1.000000</td>\n",
              "      <td>1.000000</td>\n",
              "      <td>1.000000</td>\n",
              "      <td>0.000000</td>\n",
              "      <td>0.000000</td>\n",
              "      <td>1.000000</td>\n",
              "      <td>0.000000</td>\n",
              "      <td>1.000000</td>\n",
              "      <td>0.000000</td>\n",
              "      <td>1.000000</td>\n",
              "      <td>1.00000</td>\n",
              "    </tr>\n",
              "    <tr>\n",
              "      <th>max</th>\n",
              "      <td>9133.000000</td>\n",
              "      <td>83325.381190</td>\n",
              "      <td>99981.000000</td>\n",
              "      <td>9.000000</td>\n",
              "      <td>2893.239678</td>\n",
              "      <td>35.000000</td>\n",
              "      <td>1.000000</td>\n",
              "      <td>1.000000</td>\n",
              "      <td>1.000000</td>\n",
              "      <td>1.000000</td>\n",
              "      <td>1.000000</td>\n",
              "      <td>1.000000</td>\n",
              "      <td>1.000000</td>\n",
              "      <td>1.000000</td>\n",
              "      <td>1.000000</td>\n",
              "      <td>1.000000</td>\n",
              "      <td>1.000000</td>\n",
              "      <td>1.00000</td>\n",
              "    </tr>\n",
              "  </tbody>\n",
              "</table>\n",
              "</div>\n",
              "      <button class=\"colab-df-convert\" onclick=\"convertToInteractive('df-141661b9-61d4-431e-8026-4d6ab83d3301')\"\n",
              "              title=\"Convert this dataframe to an interactive table.\"\n",
              "              style=\"display:none;\">\n",
              "        \n",
              "  <svg xmlns=\"http://www.w3.org/2000/svg\" height=\"24px\"viewBox=\"0 0 24 24\"\n",
              "       width=\"24px\">\n",
              "    <path d=\"M0 0h24v24H0V0z\" fill=\"none\"/>\n",
              "    <path d=\"M18.56 5.44l.94 2.06.94-2.06 2.06-.94-2.06-.94-.94-2.06-.94 2.06-2.06.94zm-11 1L8.5 8.5l.94-2.06 2.06-.94-2.06-.94L8.5 2.5l-.94 2.06-2.06.94zm10 10l.94 2.06.94-2.06 2.06-.94-2.06-.94-.94-2.06-.94 2.06-2.06.94z\"/><path d=\"M17.41 7.96l-1.37-1.37c-.4-.4-.92-.59-1.43-.59-.52 0-1.04.2-1.43.59L10.3 9.45l-7.72 7.72c-.78.78-.78 2.05 0 2.83L4 21.41c.39.39.9.59 1.41.59.51 0 1.02-.2 1.41-.59l7.78-7.78 2.81-2.81c.8-.78.8-2.07 0-2.86zM5.41 20L4 18.59l7.72-7.72 1.47 1.35L5.41 20z\"/>\n",
              "  </svg>\n",
              "      </button>\n",
              "      \n",
              "  <style>\n",
              "    .colab-df-container {\n",
              "      display:flex;\n",
              "      flex-wrap:wrap;\n",
              "      gap: 12px;\n",
              "    }\n",
              "\n",
              "    .colab-df-convert {\n",
              "      background-color: #E8F0FE;\n",
              "      border: none;\n",
              "      border-radius: 50%;\n",
              "      cursor: pointer;\n",
              "      display: none;\n",
              "      fill: #1967D2;\n",
              "      height: 32px;\n",
              "      padding: 0 0 0 0;\n",
              "      width: 32px;\n",
              "    }\n",
              "\n",
              "    .colab-df-convert:hover {\n",
              "      background-color: #E2EBFA;\n",
              "      box-shadow: 0px 1px 2px rgba(60, 64, 67, 0.3), 0px 1px 3px 1px rgba(60, 64, 67, 0.15);\n",
              "      fill: #174EA6;\n",
              "    }\n",
              "\n",
              "    [theme=dark] .colab-df-convert {\n",
              "      background-color: #3B4455;\n",
              "      fill: #D2E3FC;\n",
              "    }\n",
              "\n",
              "    [theme=dark] .colab-df-convert:hover {\n",
              "      background-color: #434B5C;\n",
              "      box-shadow: 0px 1px 3px 1px rgba(0, 0, 0, 0.15);\n",
              "      filter: drop-shadow(0px 1px 2px rgba(0, 0, 0, 0.3));\n",
              "      fill: #FFFFFF;\n",
              "    }\n",
              "  </style>\n",
              "\n",
              "      <script>\n",
              "        const buttonEl =\n",
              "          document.querySelector('#df-141661b9-61d4-431e-8026-4d6ab83d3301 button.colab-df-convert');\n",
              "        buttonEl.style.display =\n",
              "          google.colab.kernel.accessAllowed ? 'block' : 'none';\n",
              "\n",
              "        async function convertToInteractive(key) {\n",
              "          const element = document.querySelector('#df-141661b9-61d4-431e-8026-4d6ab83d3301');\n",
              "          const dataTable =\n",
              "            await google.colab.kernel.invokeFunction('convertToInteractive',\n",
              "                                                     [key], {});\n",
              "          if (!dataTable) return;\n",
              "\n",
              "          const docLinkHtml = 'Like what you see? Visit the ' +\n",
              "            '<a target=\"_blank\" href=https://colab.research.google.com/notebooks/data_table.ipynb>data table notebook</a>'\n",
              "            + ' to learn more about interactive tables.';\n",
              "          element.innerHTML = '';\n",
              "          dataTable['output_type'] = 'display_data';\n",
              "          await google.colab.output.renderOutput(dataTable, element);\n",
              "          const docLink = document.createElement('div');\n",
              "          docLink.innerHTML = docLinkHtml;\n",
              "          element.appendChild(docLink);\n",
              "        }\n",
              "      </script>\n",
              "    </div>\n",
              "  </div>\n",
              "  "
            ]
          },
          "metadata": {},
          "execution_count": 10
        }
      ]
    },
    {
      "cell_type": "code",
      "source": [
        "X = df.drop([\"Unnamed: 0\",\"Customer Lifetime Value\"], axis =1 )\n",
        "y = df['Customer Lifetime Value']"
      ],
      "metadata": {
        "id": "9hfSckvYW4NN"
      },
      "execution_count": 11,
      "outputs": []
    },
    {
      "cell_type": "code",
      "source": [
        "from sklearn.model_selection import train_test_split\n",
        "X_train, X_test, y_train, y_test = train_test_split(X, y, test_size = .3)"
      ],
      "metadata": {
        "id": "5X3GlNZqyAfL"
      },
      "execution_count": 12,
      "outputs": []
    },
    {
      "cell_type": "code",
      "source": [
        "from sklearn.preprocessing import StandardScaler"
      ],
      "metadata": {
        "id": "BaX5ur0GyAh6"
      },
      "execution_count": 13,
      "outputs": []
    },
    {
      "cell_type": "code",
      "source": [
        "scaler = StandardScaler()\n",
        "X_train = scaler.fit_transform(X_train)\n",
        "X_test = scaler.transform(X_test)"
      ],
      "metadata": {
        "id": "jWF7eEu9x2jH"
      },
      "execution_count": 14,
      "outputs": []
    },
    {
      "cell_type": "code",
      "source": [
        "X_train.shape"
      ],
      "metadata": {
        "colab": {
          "base_uri": "https://localhost:8080/"
        },
        "id": "zYF55Myw9tGS",
        "outputId": "fc0dda7d-144d-43a0-9382-ec625f315d5c"
      },
      "execution_count": 15,
      "outputs": [
        {
          "output_type": "execute_result",
          "data": {
            "text/plain": [
              "(6393, 16)"
            ]
          },
          "metadata": {},
          "execution_count": 15
        }
      ]
    },
    {
      "cell_type": "markdown",
      "source": [
        "# 2.) Run a GridSearch CV on at least 10 possible combinations of hyper parameters "
      ],
      "metadata": {
        "id": "OacsID8kTRvk"
      }
    },
    {
      "cell_type": "code",
      "source": [
        "from sklearn.neural_network import MLPRegressor\n",
        "from sklearn.model_selection import GridSearchCV"
      ],
      "metadata": {
        "id": "HGRyvMUHicYL"
      },
      "execution_count": 45,
      "outputs": []
    },
    {
      "cell_type": "code",
      "source": [
        "clf = MLPRegressor(max_iter = 1000, learning_rate_init = 0.5)\n",
        "\n",
        "params = {\n",
        "    \"hidden_layer_sizes\": [(10,), (20,5,),(50,10,),(100,15,)], \n",
        "    \"activation\" : ['relu','logistic','tanh']\n",
        "}"
      ],
      "metadata": {
        "id": "ovrlSMhri3Eb"
      },
      "execution_count": null,
      "outputs": []
    },
    {
      "cell_type": "code",
      "source": [
        "grid = GridSearchCV(clf, params, cv = 5, scoring = \"neg_root_mean_squared_error\")\n",
        "grid.fit(X_train, y_train)"
      ],
      "metadata": {
        "id": "N15NvH4qi3HI",
        "colab": {
          "base_uri": "https://localhost:8080/",
          "height": 118
        },
        "outputId": "141fb5a5-66a8-4d2a-acca-44c0b0710484"
      },
      "execution_count": null,
      "outputs": [
        {
          "output_type": "execute_result",
          "data": {
            "text/plain": [
              "GridSearchCV(cv=5,\n",
              "             estimator=MLPRegressor(learning_rate_init=0.5, max_iter=1000),\n",
              "             param_grid={'activation': ['relu', 'logistic', 'tanh'],\n",
              "                         'hidden_layer_sizes': [(10,), (20, 5), (50, 10),\n",
              "                                                (100, 15)]},\n",
              "             scoring='neg_root_mean_squared_error')"
            ],
            "text/html": [
              "<style>#sk-container-id-5 {color: black;background-color: white;}#sk-container-id-5 pre{padding: 0;}#sk-container-id-5 div.sk-toggleable {background-color: white;}#sk-container-id-5 label.sk-toggleable__label {cursor: pointer;display: block;width: 100%;margin-bottom: 0;padding: 0.3em;box-sizing: border-box;text-align: center;}#sk-container-id-5 label.sk-toggleable__label-arrow:before {content: \"▸\";float: left;margin-right: 0.25em;color: #696969;}#sk-container-id-5 label.sk-toggleable__label-arrow:hover:before {color: black;}#sk-container-id-5 div.sk-estimator:hover label.sk-toggleable__label-arrow:before {color: black;}#sk-container-id-5 div.sk-toggleable__content {max-height: 0;max-width: 0;overflow: hidden;text-align: left;background-color: #f0f8ff;}#sk-container-id-5 div.sk-toggleable__content pre {margin: 0.2em;color: black;border-radius: 0.25em;background-color: #f0f8ff;}#sk-container-id-5 input.sk-toggleable__control:checked~div.sk-toggleable__content {max-height: 200px;max-width: 100%;overflow: auto;}#sk-container-id-5 input.sk-toggleable__control:checked~label.sk-toggleable__label-arrow:before {content: \"▾\";}#sk-container-id-5 div.sk-estimator input.sk-toggleable__control:checked~label.sk-toggleable__label {background-color: #d4ebff;}#sk-container-id-5 div.sk-label input.sk-toggleable__control:checked~label.sk-toggleable__label {background-color: #d4ebff;}#sk-container-id-5 input.sk-hidden--visually {border: 0;clip: rect(1px 1px 1px 1px);clip: rect(1px, 1px, 1px, 1px);height: 1px;margin: -1px;overflow: hidden;padding: 0;position: absolute;width: 1px;}#sk-container-id-5 div.sk-estimator {font-family: monospace;background-color: #f0f8ff;border: 1px dotted black;border-radius: 0.25em;box-sizing: border-box;margin-bottom: 0.5em;}#sk-container-id-5 div.sk-estimator:hover {background-color: #d4ebff;}#sk-container-id-5 div.sk-parallel-item::after {content: \"\";width: 100%;border-bottom: 1px solid gray;flex-grow: 1;}#sk-container-id-5 div.sk-label:hover label.sk-toggleable__label {background-color: #d4ebff;}#sk-container-id-5 div.sk-serial::before {content: \"\";position: absolute;border-left: 1px solid gray;box-sizing: border-box;top: 0;bottom: 0;left: 50%;z-index: 0;}#sk-container-id-5 div.sk-serial {display: flex;flex-direction: column;align-items: center;background-color: white;padding-right: 0.2em;padding-left: 0.2em;position: relative;}#sk-container-id-5 div.sk-item {position: relative;z-index: 1;}#sk-container-id-5 div.sk-parallel {display: flex;align-items: stretch;justify-content: center;background-color: white;position: relative;}#sk-container-id-5 div.sk-item::before, #sk-container-id-5 div.sk-parallel-item::before {content: \"\";position: absolute;border-left: 1px solid gray;box-sizing: border-box;top: 0;bottom: 0;left: 50%;z-index: -1;}#sk-container-id-5 div.sk-parallel-item {display: flex;flex-direction: column;z-index: 1;position: relative;background-color: white;}#sk-container-id-5 div.sk-parallel-item:first-child::after {align-self: flex-end;width: 50%;}#sk-container-id-5 div.sk-parallel-item:last-child::after {align-self: flex-start;width: 50%;}#sk-container-id-5 div.sk-parallel-item:only-child::after {width: 0;}#sk-container-id-5 div.sk-dashed-wrapped {border: 1px dashed gray;margin: 0 0.4em 0.5em 0.4em;box-sizing: border-box;padding-bottom: 0.4em;background-color: white;}#sk-container-id-5 div.sk-label label {font-family: monospace;font-weight: bold;display: inline-block;line-height: 1.2em;}#sk-container-id-5 div.sk-label-container {text-align: center;}#sk-container-id-5 div.sk-container {/* jupyter's `normalize.less` sets `[hidden] { display: none; }` but bootstrap.min.css set `[hidden] { display: none !important; }` so we also need the `!important` here to be able to override the default hidden behavior on the sphinx rendered scikit-learn.org. See: https://github.com/scikit-learn/scikit-learn/issues/21755 */display: inline-block !important;position: relative;}#sk-container-id-5 div.sk-text-repr-fallback {display: none;}</style><div id=\"sk-container-id-5\" class=\"sk-top-container\"><div class=\"sk-text-repr-fallback\"><pre>GridSearchCV(cv=5,\n",
              "             estimator=MLPRegressor(learning_rate_init=0.5, max_iter=1000),\n",
              "             param_grid={&#x27;activation&#x27;: [&#x27;relu&#x27;, &#x27;logistic&#x27;, &#x27;tanh&#x27;],\n",
              "                         &#x27;hidden_layer_sizes&#x27;: [(10,), (20, 5), (50, 10),\n",
              "                                                (100, 15)]},\n",
              "             scoring=&#x27;neg_root_mean_squared_error&#x27;)</pre><b>In a Jupyter environment, please rerun this cell to show the HTML representation or trust the notebook. <br />On GitHub, the HTML representation is unable to render, please try loading this page with nbviewer.org.</b></div><div class=\"sk-container\" hidden><div class=\"sk-item sk-dashed-wrapped\"><div class=\"sk-label-container\"><div class=\"sk-label sk-toggleable\"><input class=\"sk-toggleable__control sk-hidden--visually\" id=\"sk-estimator-id-9\" type=\"checkbox\" ><label for=\"sk-estimator-id-9\" class=\"sk-toggleable__label sk-toggleable__label-arrow\">GridSearchCV</label><div class=\"sk-toggleable__content\"><pre>GridSearchCV(cv=5,\n",
              "             estimator=MLPRegressor(learning_rate_init=0.5, max_iter=1000),\n",
              "             param_grid={&#x27;activation&#x27;: [&#x27;relu&#x27;, &#x27;logistic&#x27;, &#x27;tanh&#x27;],\n",
              "                         &#x27;hidden_layer_sizes&#x27;: [(10,), (20, 5), (50, 10),\n",
              "                                                (100, 15)]},\n",
              "             scoring=&#x27;neg_root_mean_squared_error&#x27;)</pre></div></div></div><div class=\"sk-parallel\"><div class=\"sk-parallel-item\"><div class=\"sk-item\"><div class=\"sk-label-container\"><div class=\"sk-label sk-toggleable\"><input class=\"sk-toggleable__control sk-hidden--visually\" id=\"sk-estimator-id-10\" type=\"checkbox\" ><label for=\"sk-estimator-id-10\" class=\"sk-toggleable__label sk-toggleable__label-arrow\">estimator: MLPRegressor</label><div class=\"sk-toggleable__content\"><pre>MLPRegressor(learning_rate_init=0.5, max_iter=1000)</pre></div></div></div><div class=\"sk-serial\"><div class=\"sk-item\"><div class=\"sk-estimator sk-toggleable\"><input class=\"sk-toggleable__control sk-hidden--visually\" id=\"sk-estimator-id-11\" type=\"checkbox\" ><label for=\"sk-estimator-id-11\" class=\"sk-toggleable__label sk-toggleable__label-arrow\">MLPRegressor</label><div class=\"sk-toggleable__content\"><pre>MLPRegressor(learning_rate_init=0.5, max_iter=1000)</pre></div></div></div></div></div></div></div></div></div></div>"
            ]
          },
          "metadata": {},
          "execution_count": 23
        }
      ]
    },
    {
      "cell_type": "code",
      "source": [
        "print(grid.best_params_)"
      ],
      "metadata": {
        "id": "2BNZptA6yzk6",
        "colab": {
          "base_uri": "https://localhost:8080/"
        },
        "outputId": "f241bc6f-cd22-45f1-c056-cee1126fde30"
      },
      "execution_count": null,
      "outputs": [
        {
          "output_type": "stream",
          "name": "stdout",
          "text": [
            "{'activation': 'relu', 'hidden_layer_sizes': (100, 15)}\n"
          ]
        }
      ]
    },
    {
      "cell_type": "markdown",
      "source": [
        "# 3.) Train a model with the optimal solution from GridSearch"
      ],
      "metadata": {
        "id": "DKNdxiyOTsOE"
      }
    },
    {
      "cell_type": "code",
      "source": [
        "best_model = MLPRegressor(max_iter = 1000, learning_rate_init = 0.5,\n",
        "             activation = 'relu', hidden_layer_sizes = (100, 15))"
      ],
      "metadata": {
        "id": "tlySuJN1ULTl"
      },
      "execution_count": 46,
      "outputs": []
    },
    {
      "cell_type": "code",
      "source": [
        "best_model.fit(X_train, y_train)"
      ],
      "metadata": {
        "colab": {
          "base_uri": "https://localhost:8080/",
          "height": 92
        },
        "id": "b5tANkD2Gk8m",
        "outputId": "d21e1c74-98f7-415e-f42c-c43ebba8b1ee"
      },
      "execution_count": 47,
      "outputs": [
        {
          "output_type": "execute_result",
          "data": {
            "text/plain": [
              "MLPRegressor(hidden_layer_sizes=(100, 15), learning_rate_init=0.5,\n",
              "             max_iter=1000)"
            ],
            "text/html": [
              "<style>#sk-container-id-1 {color: black;background-color: white;}#sk-container-id-1 pre{padding: 0;}#sk-container-id-1 div.sk-toggleable {background-color: white;}#sk-container-id-1 label.sk-toggleable__label {cursor: pointer;display: block;width: 100%;margin-bottom: 0;padding: 0.3em;box-sizing: border-box;text-align: center;}#sk-container-id-1 label.sk-toggleable__label-arrow:before {content: \"▸\";float: left;margin-right: 0.25em;color: #696969;}#sk-container-id-1 label.sk-toggleable__label-arrow:hover:before {color: black;}#sk-container-id-1 div.sk-estimator:hover label.sk-toggleable__label-arrow:before {color: black;}#sk-container-id-1 div.sk-toggleable__content {max-height: 0;max-width: 0;overflow: hidden;text-align: left;background-color: #f0f8ff;}#sk-container-id-1 div.sk-toggleable__content pre {margin: 0.2em;color: black;border-radius: 0.25em;background-color: #f0f8ff;}#sk-container-id-1 input.sk-toggleable__control:checked~div.sk-toggleable__content {max-height: 200px;max-width: 100%;overflow: auto;}#sk-container-id-1 input.sk-toggleable__control:checked~label.sk-toggleable__label-arrow:before {content: \"▾\";}#sk-container-id-1 div.sk-estimator input.sk-toggleable__control:checked~label.sk-toggleable__label {background-color: #d4ebff;}#sk-container-id-1 div.sk-label input.sk-toggleable__control:checked~label.sk-toggleable__label {background-color: #d4ebff;}#sk-container-id-1 input.sk-hidden--visually {border: 0;clip: rect(1px 1px 1px 1px);clip: rect(1px, 1px, 1px, 1px);height: 1px;margin: -1px;overflow: hidden;padding: 0;position: absolute;width: 1px;}#sk-container-id-1 div.sk-estimator {font-family: monospace;background-color: #f0f8ff;border: 1px dotted black;border-radius: 0.25em;box-sizing: border-box;margin-bottom: 0.5em;}#sk-container-id-1 div.sk-estimator:hover {background-color: #d4ebff;}#sk-container-id-1 div.sk-parallel-item::after {content: \"\";width: 100%;border-bottom: 1px solid gray;flex-grow: 1;}#sk-container-id-1 div.sk-label:hover label.sk-toggleable__label {background-color: #d4ebff;}#sk-container-id-1 div.sk-serial::before {content: \"\";position: absolute;border-left: 1px solid gray;box-sizing: border-box;top: 0;bottom: 0;left: 50%;z-index: 0;}#sk-container-id-1 div.sk-serial {display: flex;flex-direction: column;align-items: center;background-color: white;padding-right: 0.2em;padding-left: 0.2em;position: relative;}#sk-container-id-1 div.sk-item {position: relative;z-index: 1;}#sk-container-id-1 div.sk-parallel {display: flex;align-items: stretch;justify-content: center;background-color: white;position: relative;}#sk-container-id-1 div.sk-item::before, #sk-container-id-1 div.sk-parallel-item::before {content: \"\";position: absolute;border-left: 1px solid gray;box-sizing: border-box;top: 0;bottom: 0;left: 50%;z-index: -1;}#sk-container-id-1 div.sk-parallel-item {display: flex;flex-direction: column;z-index: 1;position: relative;background-color: white;}#sk-container-id-1 div.sk-parallel-item:first-child::after {align-self: flex-end;width: 50%;}#sk-container-id-1 div.sk-parallel-item:last-child::after {align-self: flex-start;width: 50%;}#sk-container-id-1 div.sk-parallel-item:only-child::after {width: 0;}#sk-container-id-1 div.sk-dashed-wrapped {border: 1px dashed gray;margin: 0 0.4em 0.5em 0.4em;box-sizing: border-box;padding-bottom: 0.4em;background-color: white;}#sk-container-id-1 div.sk-label label {font-family: monospace;font-weight: bold;display: inline-block;line-height: 1.2em;}#sk-container-id-1 div.sk-label-container {text-align: center;}#sk-container-id-1 div.sk-container {/* jupyter's `normalize.less` sets `[hidden] { display: none; }` but bootstrap.min.css set `[hidden] { display: none !important; }` so we also need the `!important` here to be able to override the default hidden behavior on the sphinx rendered scikit-learn.org. See: https://github.com/scikit-learn/scikit-learn/issues/21755 */display: inline-block !important;position: relative;}#sk-container-id-1 div.sk-text-repr-fallback {display: none;}</style><div id=\"sk-container-id-1\" class=\"sk-top-container\"><div class=\"sk-text-repr-fallback\"><pre>MLPRegressor(hidden_layer_sizes=(100, 15), learning_rate_init=0.5,\n",
              "             max_iter=1000)</pre><b>In a Jupyter environment, please rerun this cell to show the HTML representation or trust the notebook. <br />On GitHub, the HTML representation is unable to render, please try loading this page with nbviewer.org.</b></div><div class=\"sk-container\" hidden><div class=\"sk-item\"><div class=\"sk-estimator sk-toggleable\"><input class=\"sk-toggleable__control sk-hidden--visually\" id=\"sk-estimator-id-1\" type=\"checkbox\" checked><label for=\"sk-estimator-id-1\" class=\"sk-toggleable__label sk-toggleable__label-arrow\">MLPRegressor</label><div class=\"sk-toggleable__content\"><pre>MLPRegressor(hidden_layer_sizes=(100, 15), learning_rate_init=0.5,\n",
              "             max_iter=1000)</pre></div></div></div></div></div>"
            ]
          },
          "metadata": {},
          "execution_count": 47
        }
      ]
    },
    {
      "cell_type": "markdown",
      "source": [
        "# 4.) What are the in-sample and out of sample MSEs"
      ],
      "metadata": {
        "id": "qTPkbSDwT0nO"
      }
    },
    {
      "cell_type": "code",
      "source": [
        "-grid.best_score_"
      ],
      "metadata": {
        "id": "RjTa3ShN_edU",
        "colab": {
          "base_uri": "https://localhost:8080/"
        },
        "outputId": "4ad8f673-525e-49e9-e1b0-8f6fcc0bff32"
      },
      "execution_count": null,
      "outputs": [
        {
          "output_type": "execute_result",
          "data": {
            "text/plain": [
              "4780.132467323334"
            ]
          },
          "metadata": {},
          "execution_count": 32
        }
      ]
    },
    {
      "cell_type": "code",
      "source": [
        "mean_squared_error(\n",
        "  y_train, \n",
        "  best_model.predict(X_train), \n",
        "  squared = False\n",
        "  )"
      ],
      "metadata": {
        "id": "xd2PAQ3e_egK",
        "colab": {
          "base_uri": "https://localhost:8080/"
        },
        "outputId": "c94436fe-bc8a-4249-a20c-0957735c5f9b"
      },
      "execution_count": null,
      "outputs": [
        {
          "output_type": "execute_result",
          "data": {
            "text/plain": [
              "3853.8066566711495"
            ]
          },
          "metadata": {},
          "execution_count": 36
        }
      ]
    },
    {
      "cell_type": "code",
      "source": [
        "from sklearn.metrics import mean_squared_error\n",
        "\n",
        "mean_squared_error(\n",
        "  y_test, \n",
        "  best_model.predict(X_test), \n",
        "  squared = False\n",
        "  )"
      ],
      "metadata": {
        "id": "2KuP_O-uJFg0",
        "colab": {
          "base_uri": "https://localhost:8080/"
        },
        "outputId": "73e3ac10-dadb-4fd6-97ec-8af35d185c0c"
      },
      "execution_count": 48,
      "outputs": [
        {
          "output_type": "execute_result",
          "data": {
            "text/plain": [
              "4756.833210962599"
            ]
          },
          "metadata": {},
          "execution_count": 48
        }
      ]
    },
    {
      "cell_type": "markdown",
      "source": [
        "In-sample MSE is 3854, out-of-sample MSE is 4581."
      ],
      "metadata": {
        "id": "yJ0fJo7mG8nz"
      }
    },
    {
      "cell_type": "markdown",
      "source": [
        "# 5.) Build a Keras with the architecture defined by GridSearchCV"
      ],
      "metadata": {
        "id": "YVQ1PvBK_ev0"
      }
    },
    {
      "cell_type": "code",
      "source": [
        "from keras.optimizers import Adam\n",
        "from keras.models import Sequential\n",
        "from keras.layers import Dense\n",
        "from sklearn.model_selection import GridSearchCV\n",
        "from keras.wrappers.scikit_learn import KerasRegressor"
      ],
      "metadata": {
        "id": "dzqvY-1Vfd3v"
      },
      "execution_count": 2,
      "outputs": []
    },
    {
      "cell_type": "code",
      "source": [
        "def create_model(optimizer='adam', activation='relu', neurons=1):\n",
        "    model = Sequential()\n",
        "    model.add(Dense(neurons, input_dim=X_train.shape[1], activation=activation))\n",
        "    model.add(Dense(neurons, activation=activation))\n",
        "    model.add(Dense(neurons, activation=activation))\n",
        "    model.add(Dense(neurons, activation=activation))\n",
        "    model.add(Dense(neurons, activation=activation))\n",
        "    model.add(Dense(neurons, activation=activation))\n",
        "    model.add(Dense(1))\n",
        "    model.compile(loss='mse', optimizer=optimizer)\n",
        "    return model"
      ],
      "metadata": {
        "id": "REnA8g8VOexH"
      },
      "execution_count": 34,
      "outputs": []
    },
    {
      "cell_type": "code",
      "source": [
        "model = KerasRegressor(build_fn=create_model, verbose=0)"
      ],
      "metadata": {
        "id": "cIru4hD8Oezl",
        "colab": {
          "base_uri": "https://localhost:8080/"
        },
        "outputId": "a6362976-ec7f-4aa6-f887-ed909130e1ae"
      },
      "execution_count": 35,
      "outputs": [
        {
          "output_type": "stream",
          "name": "stderr",
          "text": [
            "<ipython-input-35-8d2d8e794dbc>:1: DeprecationWarning: KerasRegressor is deprecated, use Sci-Keras (https://github.com/adriangb/scikeras) instead. See https://www.adriangb.com/scikeras/stable/migration.html for help migrating.\n",
            "  model = KerasRegressor(build_fn=create_model, verbose=0)\n"
          ]
        }
      ]
    },
    {
      "cell_type": "code",
      "source": [
        "param_grid = {\n",
        "    'optimizer': ['adam', 'rmsprop'],\n",
        "    'activation': ['relu', 'sigmoid'],\n",
        "    'neurons': [1, 5, 10, 20, 50]\n",
        "}"
      ],
      "metadata": {
        "id": "VNs7UXEeR9_n"
      },
      "execution_count": 36,
      "outputs": []
    },
    {
      "cell_type": "code",
      "source": [
        "grid = GridSearchCV(estimator=model, param_grid=param_grid, cv=3)\n",
        "grid_result = grid.fit(X_train, y_train)"
      ],
      "metadata": {
        "id": "Wa6Yg-UMR91g"
      },
      "execution_count": 37,
      "outputs": []
    },
    {
      "cell_type": "code",
      "source": [
        "-grid_result.best_score_"
      ],
      "metadata": {
        "colab": {
          "base_uri": "https://localhost:8080/"
        },
        "id": "sM4WHVA8SyGf",
        "outputId": "42a99a0f-3614-4edb-d0f4-2e12d1fb208e"
      },
      "execution_count": 38,
      "outputs": [
        {
          "output_type": "execute_result",
          "data": {
            "text/plain": [
              "46194404.0"
            ]
          },
          "metadata": {},
          "execution_count": 38
        }
      ]
    },
    {
      "cell_type": "code",
      "source": [
        "grid_result.best_params_"
      ],
      "metadata": {
        "colab": {
          "base_uri": "https://localhost:8080/"
        },
        "id": "cOHllOJVTM3K",
        "outputId": "33e37a78-53ea-44c4-93d8-5394b1409f79"
      },
      "execution_count": 39,
      "outputs": [
        {
          "output_type": "execute_result",
          "data": {
            "text/plain": [
              "{'activation': 'relu', 'neurons': 50, 'optimizer': 'adam'}"
            ]
          },
          "metadata": {},
          "execution_count": 39
        }
      ]
    },
    {
      "cell_type": "code",
      "source": [
        "mean_squared_error(\n",
        "  y_train, \n",
        "  grid_result.predict(X_train), \n",
        "  squared = False\n",
        "  )"
      ],
      "metadata": {
        "colab": {
          "base_uri": "https://localhost:8080/"
        },
        "id": "3Yv636hZVHLD",
        "outputId": "57d5acfc-d2bd-4763-df68-6038fecbaac4"
      },
      "execution_count": 43,
      "outputs": [
        {
          "output_type": "execute_result",
          "data": {
            "text/plain": [
              "6662.4106270277125"
            ]
          },
          "metadata": {},
          "execution_count": 43
        }
      ]
    },
    {
      "cell_type": "code",
      "source": [
        "mean_squared_error(\n",
        "  y_test, \n",
        "  grid_result.best_estimator_.predict(X_test), \n",
        "  squared = False\n",
        "  )"
      ],
      "metadata": {
        "id": "uzSdPhz2Oe2O",
        "colab": {
          "base_uri": "https://localhost:8080/"
        },
        "outputId": "266c4357-4fb4-4ae4-8d0c-05c5a25d3698"
      },
      "execution_count": 54,
      "outputs": [
        {
          "output_type": "execute_result",
          "data": {
            "text/plain": [
              "6728.026283371787"
            ]
          },
          "metadata": {},
          "execution_count": 54
        }
      ]
    },
    {
      "cell_type": "markdown",
      "source": [
        "# 6.) Make two visualizations of your NN using “plot_model” and “ann_viz”"
      ],
      "metadata": {
        "id": "NirfWMLxOe-P"
      }
    },
    {
      "cell_type": "code",
      "source": [
        "from tensorflow.keras.utils import plot_model"
      ],
      "metadata": {
        "id": "pF_gjYFTOiL0"
      },
      "execution_count": 62,
      "outputs": []
    },
    {
      "cell_type": "code",
      "source": [
        "keras_model = grid_result.best_estimator_.model\n",
        "plot_model(keras_model, show_shapes = True)"
      ],
      "metadata": {
        "id": "yET3XQYSOiq_",
        "colab": {
          "base_uri": "https://localhost:8080/",
          "height": 865
        },
        "outputId": "685b759c-8534-4f7a-e00a-8bb91cb68658"
      },
      "execution_count": 58,
      "outputs": [
        {
          "output_type": "execute_result",
          "data": {
            "image/png": "[encoded data removed]",
            "text/plain": [
              "<IPython.core.display.Image object>"
            ]
          },
          "metadata": {},
          "execution_count": 58
        }
      ]
    },
    {
      "cell_type": "code",
      "source": [
        "from ann_visualizer.visualize import ann_viz"
      ],
      "metadata": {
        "id": "FaoYOwL6ZUIF"
      },
      "execution_count": 63,
      "outputs": []
    },
    {
      "cell_type": "code",
      "source": [
        "ann_viz(keras_model, title = \"CLV NN Viz\", filename=\"network.gv\")"
      ],
      "metadata": {
        "id": "VtFLNv7iOiwq"
      },
      "execution_count": 68,
      "outputs": []
    }
  ]
}